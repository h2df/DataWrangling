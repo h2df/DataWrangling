{
 "cells": [
  {
   "cell_type": "code",
   "execution_count": 447,
   "metadata": {},
   "outputs": [
    {
     "name": "stdout",
     "output_type": "stream",
     "text": [
      "The nb_black extension is already loaded. To reload it, use:\n",
      "  %reload_ext nb_black\n"
     ]
    },
    {
     "data": {
      "application/javascript": [
       "\n",
       "            setTimeout(function() {\n",
       "                var nbb_cell_id = 447;\n",
       "                var nbb_unformatted_code = \"%load_ext nb_black\\n# check data files first\\nimport os\\n\\nINPUT_FILES = {\\n    'health_survey' : './datasets/health_survey.csv',\\n    'baby_names' : './datasets/baby_names.csv',\\n    'nz_indicators' : './datasets/nz_indicators.csv',\\n    'data_documentation' : './datasets/Data documentation.xlsx'\\n}\\n\\nfor path in INPUT_FILES.values():\\n    if not os.path.isfile(path):\\n        raise Exception(\\\"Input file {} does not exist.\\\".format(path))\";\n",
       "                var nbb_formatted_code = \"%load_ext nb_black\\n# check data files first\\nimport os\\n\\nINPUT_FILES = {\\n    \\\"health_survey\\\": \\\"./datasets/health_survey.csv\\\",\\n    \\\"baby_names\\\": \\\"./datasets/baby_names.csv\\\",\\n    \\\"nz_indicators\\\": \\\"./datasets/nz_indicators.csv\\\",\\n    \\\"data_documentation\\\": \\\"./datasets/Data documentation.xlsx\\\",\\n}\\n\\nfor path in INPUT_FILES.values():\\n    if not os.path.isfile(path):\\n        raise Exception(\\\"Input file {} does not exist.\\\".format(path))\";\n",
       "                var nbb_cells = Jupyter.notebook.get_cells();\n",
       "                for (var i = 0; i < nbb_cells.length; ++i) {\n",
       "                    if (nbb_cells[i].input_prompt_number == nbb_cell_id) {\n",
       "                        if (nbb_cells[i].get_text() == nbb_unformatted_code) {\n",
       "                             nbb_cells[i].set_text(nbb_formatted_code);\n",
       "                        }\n",
       "                        break;\n",
       "                    }\n",
       "                }\n",
       "            }, 500);\n",
       "            "
      ],
      "text/plain": [
       "<IPython.core.display.Javascript object>"
      ]
     },
     "metadata": {},
     "output_type": "display_data"
    }
   ],
   "source": [
    "%load_ext nb_black\n",
    "# check data files first\n",
    "import os\n",
    "\n",
    "INPUT_FILES = {\n",
    "    'health_survey' : './datasets/health_survey.csv',\n",
    "    'baby_names' : './datasets/baby_names.csv',\n",
    "    'nz_indicators' : './datasets/nz_indicators.csv',\n",
    "    'data_documentation' : './datasets/Data documentation.xlsx'\n",
    "}\n",
    "\n",
    "for path in INPUT_FILES.values():\n",
    "    if not os.path.isfile(path):\n",
    "        raise Exception(\"Input file {} does not exist.\".format(path))\n",
    "\n"
   ]
  },
  {
   "cell_type": "code",
   "execution_count": 448,
   "metadata": {},
   "outputs": [
    {
     "data": {
      "application/javascript": [
       "\n",
       "            setTimeout(function() {\n",
       "                var nbb_cell_id = 448;\n",
       "                var nbb_unformatted_code = \"import pandas as pd\\nimport numpy as np\\nimport seaborn as sns\\nfrom pylab import rcParams\\n\\n%matplotlib inline\\nplt.style.use(\\\"ggplot\\\")\\nsns.set_palette(\\\"muted\\\")\\nrcParams[\\\"figure.figsize\\\"] = 15, 10\\nrcParams[\\\"font.size\\\"] = 20\";\n",
       "                var nbb_formatted_code = \"import pandas as pd\\nimport numpy as np\\nimport seaborn as sns\\nfrom pylab import rcParams\\n\\n%matplotlib inline\\nplt.style.use(\\\"ggplot\\\")\\nsns.set_palette(\\\"muted\\\")\\nrcParams[\\\"figure.figsize\\\"] = 15, 10\\nrcParams[\\\"font.size\\\"] = 20\";\n",
       "                var nbb_cells = Jupyter.notebook.get_cells();\n",
       "                for (var i = 0; i < nbb_cells.length; ++i) {\n",
       "                    if (nbb_cells[i].input_prompt_number == nbb_cell_id) {\n",
       "                        if (nbb_cells[i].get_text() == nbb_unformatted_code) {\n",
       "                             nbb_cells[i].set_text(nbb_formatted_code);\n",
       "                        }\n",
       "                        break;\n",
       "                    }\n",
       "                }\n",
       "            }, 500);\n",
       "            "
      ],
      "text/plain": [
       "<IPython.core.display.Javascript object>"
      ]
     },
     "metadata": {},
     "output_type": "display_data"
    }
   ],
   "source": [
    "import pandas as pd\n",
    "import numpy as np\n",
    "import seaborn as sns\n",
    "from pylab import rcParams\n",
    "\n",
    "%matplotlib inline\n",
    "plt.style.use(\"ggplot\")\n",
    "sns.set_palette(\"muted\")\n",
    "rcParams[\"figure.figsize\"] = 15, 10\n",
    "rcParams[\"font.size\"] = 20"
   ]
  },
  {
   "cell_type": "markdown",
   "metadata": {},
   "source": [
    "## Question1: NZ Health survey data\n",
    "### a) Importing data:"
   ]
  },
  {
   "cell_type": "markdown",
   "metadata": {},
   "source": [
    "Read in the health data and save to a dataframe object. There is an encoding argument that can be set\n",
    "when using read_csv. You may need to set this to ‘latin’ to avoid the ‘utf-8' codec can't decode...’ error (see\n",
    "the Pandas documentation for further information)."
   ]
  },
  {
   "cell_type": "code",
   "execution_count": 449,
   "metadata": {},
   "outputs": [
    {
     "data": {
      "application/javascript": [
       "\n",
       "            setTimeout(function() {\n",
       "                var nbb_cell_id = 449;\n",
       "                var nbb_unformatted_code = \"health_survey = pd.read_csv(INPUT_FILES[\\\"health_survey\\\"], encoding=\\\"latin\\\")\";\n",
       "                var nbb_formatted_code = \"health_survey = pd.read_csv(INPUT_FILES[\\\"health_survey\\\"], encoding=\\\"latin\\\")\";\n",
       "                var nbb_cells = Jupyter.notebook.get_cells();\n",
       "                for (var i = 0; i < nbb_cells.length; ++i) {\n",
       "                    if (nbb_cells[i].input_prompt_number == nbb_cell_id) {\n",
       "                        if (nbb_cells[i].get_text() == nbb_unformatted_code) {\n",
       "                             nbb_cells[i].set_text(nbb_formatted_code);\n",
       "                        }\n",
       "                        break;\n",
       "                    }\n",
       "                }\n",
       "            }, 500);\n",
       "            "
      ],
      "text/plain": [
       "<IPython.core.display.Javascript object>"
      ]
     },
     "metadata": {},
     "output_type": "display_data"
    }
   ],
   "source": [
    "health_survey = pd.read_csv(INPUT_FILES[\"health_survey\"], encoding=\"latin\")"
   ]
  },
  {
   "cell_type": "markdown",
   "metadata": {},
   "source": [
    "Remove the first unnamed column and the seven ‘p.value’ columns."
   ]
  },
  {
   "cell_type": "code",
   "execution_count": 450,
   "metadata": {},
   "outputs": [
    {
     "data": {
      "application/javascript": [
       "\n",
       "            setTimeout(function() {\n",
       "                var nbb_cell_id = 450;\n",
       "                var nbb_unformatted_code = \"health_survey = health_survey[\\n    [s for s in health_survey.columns[1:] if not s.startswith(\\\"p.value\\\")]\\n]\";\n",
       "                var nbb_formatted_code = \"health_survey = health_survey[\\n    [s for s in health_survey.columns[1:] if not s.startswith(\\\"p.value\\\")]\\n]\";\n",
       "                var nbb_cells = Jupyter.notebook.get_cells();\n",
       "                for (var i = 0; i < nbb_cells.length; ++i) {\n",
       "                    if (nbb_cells[i].input_prompt_number == nbb_cell_id) {\n",
       "                        if (nbb_cells[i].get_text() == nbb_unformatted_code) {\n",
       "                             nbb_cells[i].set_text(nbb_formatted_code);\n",
       "                        }\n",
       "                        break;\n",
       "                    }\n",
       "                }\n",
       "            }, 500);\n",
       "            "
      ],
      "text/plain": [
       "<IPython.core.display.Javascript object>"
      ]
     },
     "metadata": {},
     "output_type": "display_data"
    }
   ],
   "source": [
    "health_survey = health_survey[\n",
    "    [s for s in health_survey.columns[1:] if not s.startswith(\"p.value\")]\n",
    "]"
   ]
  },
  {
   "cell_type": "markdown",
   "metadata": {},
   "source": [
    "Change all ‘percent’ column name to their associated ‘Year’ values (e.g. the name for ‘percent.16’ changes\n",
    "to ‘2016’) and change the column name of ‘short.description’ to ‘description’."
   ]
  },
  {
   "cell_type": "code",
   "execution_count": 451,
   "metadata": {
    "scrolled": true
   },
   "outputs": [
    {
     "data": {
      "text/html": [
       "<div>\n",
       "<style scoped>\n",
       "    .dataframe tbody tr th:only-of-type {\n",
       "        vertical-align: middle;\n",
       "    }\n",
       "\n",
       "    .dataframe tbody tr th {\n",
       "        vertical-align: top;\n",
       "    }\n",
       "\n",
       "    .dataframe thead th {\n",
       "        text-align: right;\n",
       "    }\n",
       "</style>\n",
       "<table border=\"1\" class=\"dataframe\">\n",
       "  <thead>\n",
       "    <tr style=\"text-align: right;\">\n",
       "      <th></th>\n",
       "      <th>population</th>\n",
       "      <th>description</th>\n",
       "      <th>group</th>\n",
       "      <th>2016</th>\n",
       "      <th>2015</th>\n",
       "      <th>2014</th>\n",
       "      <th>2013</th>\n",
       "      <th>2012</th>\n",
       "      <th>2011</th>\n",
       "      <th>2006</th>\n",
       "      <th>2007</th>\n",
       "    </tr>\n",
       "  </thead>\n",
       "  <tbody>\n",
       "    <tr>\n",
       "      <th>0</th>\n",
       "      <td>adults</td>\n",
       "      <td>Physically active</td>\n",
       "      <td>Total</td>\n",
       "      <td>50.2</td>\n",
       "      <td>47.7</td>\n",
       "      <td>50.7</td>\n",
       "      <td>52.1</td>\n",
       "      <td>51.7</td>\n",
       "      <td>54.4</td>\n",
       "      <td>52.0</td>\n",
       "      <td>NaN</td>\n",
       "    </tr>\n",
       "    <tr>\n",
       "      <th>1</th>\n",
       "      <td>adults</td>\n",
       "      <td>Physically active</td>\n",
       "      <td>Men</td>\n",
       "      <td>53.0</td>\n",
       "      <td>51.0</td>\n",
       "      <td>55.2</td>\n",
       "      <td>55.2</td>\n",
       "      <td>55.8</td>\n",
       "      <td>57.3</td>\n",
       "      <td>55.5</td>\n",
       "      <td>NaN</td>\n",
       "    </tr>\n",
       "    <tr>\n",
       "      <th>2</th>\n",
       "      <td>adults</td>\n",
       "      <td>Physically active</td>\n",
       "      <td>Women</td>\n",
       "      <td>47.6</td>\n",
       "      <td>44.5</td>\n",
       "      <td>46.5</td>\n",
       "      <td>49.1</td>\n",
       "      <td>47.9</td>\n",
       "      <td>51.7</td>\n",
       "      <td>48.8</td>\n",
       "      <td>NaN</td>\n",
       "    </tr>\n",
       "    <tr>\n",
       "      <th>3</th>\n",
       "      <td>adults</td>\n",
       "      <td>Physically active</td>\n",
       "      <td>15-17</td>\n",
       "      <td>47.1</td>\n",
       "      <td>41.7</td>\n",
       "      <td>49.6</td>\n",
       "      <td>46.7</td>\n",
       "      <td>52.7</td>\n",
       "      <td>58.1</td>\n",
       "      <td>58.6</td>\n",
       "      <td>NaN</td>\n",
       "    </tr>\n",
       "    <tr>\n",
       "      <th>4</th>\n",
       "      <td>adults</td>\n",
       "      <td>Physically active</td>\n",
       "      <td>18-24</td>\n",
       "      <td>53.5</td>\n",
       "      <td>49.7</td>\n",
       "      <td>52.6</td>\n",
       "      <td>53.7</td>\n",
       "      <td>54.9</td>\n",
       "      <td>57.4</td>\n",
       "      <td>55.3</td>\n",
       "      <td>NaN</td>\n",
       "    </tr>\n",
       "    <tr>\n",
       "      <th>...</th>\n",
       "      <td>...</td>\n",
       "      <td>...</td>\n",
       "      <td>...</td>\n",
       "      <td>...</td>\n",
       "      <td>...</td>\n",
       "      <td>...</td>\n",
       "      <td>...</td>\n",
       "      <td>...</td>\n",
       "      <td>...</td>\n",
       "      <td>...</td>\n",
       "      <td>...</td>\n",
       "    </tr>\n",
       "    <tr>\n",
       "      <th>3351</th>\n",
       "      <td>children</td>\n",
       "      <td>Thin</td>\n",
       "      <td>Asian boys</td>\n",
       "      <td>4.2</td>\n",
       "      <td>5.6</td>\n",
       "      <td>7.6</td>\n",
       "      <td>10.1</td>\n",
       "      <td>9.9</td>\n",
       "      <td>5.6</td>\n",
       "      <td>7.1</td>\n",
       "      <td>NaN</td>\n",
       "    </tr>\n",
       "    <tr>\n",
       "      <th>3352</th>\n",
       "      <td>children</td>\n",
       "      <td>Thin</td>\n",
       "      <td>Asian girls</td>\n",
       "      <td>5.9</td>\n",
       "      <td>10.3</td>\n",
       "      <td>10.8</td>\n",
       "      <td>7.2</td>\n",
       "      <td>7.8</td>\n",
       "      <td>8.3</td>\n",
       "      <td>9.2</td>\n",
       "      <td>NaN</td>\n",
       "    </tr>\n",
       "    <tr>\n",
       "      <th>3353</th>\n",
       "      <td>children</td>\n",
       "      <td>Thin</td>\n",
       "      <td>Total European/Other</td>\n",
       "      <td>4.5</td>\n",
       "      <td>4.4</td>\n",
       "      <td>4.9</td>\n",
       "      <td>4.0</td>\n",
       "      <td>5.0</td>\n",
       "      <td>4.3</td>\n",
       "      <td>2.7</td>\n",
       "      <td>NaN</td>\n",
       "    </tr>\n",
       "    <tr>\n",
       "      <th>3354</th>\n",
       "      <td>children</td>\n",
       "      <td>Thin</td>\n",
       "      <td>European/Other boys</td>\n",
       "      <td>4.2</td>\n",
       "      <td>3.8</td>\n",
       "      <td>5.6</td>\n",
       "      <td>3.0</td>\n",
       "      <td>4.5</td>\n",
       "      <td>4.0</td>\n",
       "      <td>2.4</td>\n",
       "      <td>NaN</td>\n",
       "    </tr>\n",
       "    <tr>\n",
       "      <th>3355</th>\n",
       "      <td>children</td>\n",
       "      <td>Thin</td>\n",
       "      <td>European/Other girls</td>\n",
       "      <td>4.9</td>\n",
       "      <td>5.1</td>\n",
       "      <td>4.2</td>\n",
       "      <td>5.0</td>\n",
       "      <td>5.4</td>\n",
       "      <td>4.7</td>\n",
       "      <td>3.1</td>\n",
       "      <td>NaN</td>\n",
       "    </tr>\n",
       "  </tbody>\n",
       "</table>\n",
       "<p>3356 rows × 11 columns</p>\n",
       "</div>"
      ],
      "text/plain": [
       "     population        description                 group  2016  2015  2014  \\\n",
       "0        adults  Physically active                 Total  50.2  47.7  50.7   \n",
       "1        adults  Physically active                   Men  53.0  51.0  55.2   \n",
       "2        adults  Physically active                 Women  47.6  44.5  46.5   \n",
       "3        adults  Physically active                 15-17  47.1  41.7  49.6   \n",
       "4        adults  Physically active                 18-24  53.5  49.7  52.6   \n",
       "...         ...                ...                   ...   ...   ...   ...   \n",
       "3351   children               Thin            Asian boys   4.2   5.6   7.6   \n",
       "3352   children               Thin           Asian girls   5.9  10.3  10.8   \n",
       "3353   children               Thin  Total European/Other   4.5   4.4   4.9   \n",
       "3354   children               Thin   European/Other boys   4.2   3.8   5.6   \n",
       "3355   children               Thin  European/Other girls   4.9   5.1   4.2   \n",
       "\n",
       "      2013  2012  2011  2006  2007  \n",
       "0     52.1  51.7  54.4  52.0   NaN  \n",
       "1     55.2  55.8  57.3  55.5   NaN  \n",
       "2     49.1  47.9  51.7  48.8   NaN  \n",
       "3     46.7  52.7  58.1  58.6   NaN  \n",
       "4     53.7  54.9  57.4  55.3   NaN  \n",
       "...    ...   ...   ...   ...   ...  \n",
       "3351  10.1   9.9   5.6   7.1   NaN  \n",
       "3352   7.2   7.8   8.3   9.2   NaN  \n",
       "3353   4.0   5.0   4.3   2.7   NaN  \n",
       "3354   3.0   4.5   4.0   2.4   NaN  \n",
       "3355   5.0   5.4   4.7   3.1   NaN  \n",
       "\n",
       "[3356 rows x 11 columns]"
      ]
     },
     "execution_count": 451,
     "metadata": {},
     "output_type": "execute_result"
    },
    {
     "data": {
      "application/javascript": [
       "\n",
       "            setTimeout(function() {\n",
       "                var nbb_cell_id = 451;\n",
       "                var nbb_unformatted_code = \"health_survey.rename(\\n    columns={\\n        c: c.replace(\\\"short.\\\", \\\"\\\").replace(\\\"percent.\\\", \\\"20\\\")\\n        for c in health_survey.columns\\n    },\\n    inplace=True,\\n)\\n\\nhealth_survey\";\n",
       "                var nbb_formatted_code = \"health_survey.rename(\\n    columns={\\n        c: c.replace(\\\"short.\\\", \\\"\\\").replace(\\\"percent.\\\", \\\"20\\\")\\n        for c in health_survey.columns\\n    },\\n    inplace=True,\\n)\\n\\nhealth_survey\";\n",
       "                var nbb_cells = Jupyter.notebook.get_cells();\n",
       "                for (var i = 0; i < nbb_cells.length; ++i) {\n",
       "                    if (nbb_cells[i].input_prompt_number == nbb_cell_id) {\n",
       "                        if (nbb_cells[i].get_text() == nbb_unformatted_code) {\n",
       "                             nbb_cells[i].set_text(nbb_formatted_code);\n",
       "                        }\n",
       "                        break;\n",
       "                    }\n",
       "                }\n",
       "            }, 500);\n",
       "            "
      ],
      "text/plain": [
       "<IPython.core.display.Javascript object>"
      ]
     },
     "metadata": {},
     "output_type": "display_data"
    }
   ],
   "source": [
    "health_survey.rename(\n",
    "    columns={\n",
    "        c: c.replace(\"short.\", \"\").replace(\"percent.\", \"20\")\n",
    "        for c in health_survey.columns\n",
    "    },\n",
    "    inplace=True,\n",
    ")\n",
    "\n",
    "health_survey"
   ]
  },
  {
   "cell_type": "markdown",
   "metadata": {},
   "source": [
    "### b) Filtering:"
   ]
  },
  {
   "cell_type": "markdown",
   "metadata": {},
   "source": [
    "Display the unique labels in the ‘description’ column so that you can inspect them."
   ]
  },
  {
   "cell_type": "code",
   "execution_count": 452,
   "metadata": {},
   "outputs": [
    {
     "data": {
      "text/plain": [
       "{'ADHD',\n",
       " 'Active transport',\n",
       " 'After-hours medical centre visit',\n",
       " 'All teeth removed due to decay',\n",
       " 'Amphetamine use (16-64 years)',\n",
       " 'Amphetamine use (total population)',\n",
       " 'Anxiety disorder',\n",
       " 'Arthritis',\n",
       " 'Asthma (medicated)',\n",
       " 'Autism spectrum disorder',\n",
       " 'Bipolar disorder',\n",
       " 'Breakfast eaten at home <5 days a week',\n",
       " 'Breakfast eaten at home every day',\n",
       " 'Cannabis use',\n",
       " 'Chronic pain',\n",
       " 'Current smokers',\n",
       " 'Daily smokers',\n",
       " 'Definite confidence and trust in GP',\n",
       " 'Dental health care worker visit',\n",
       " 'Depression',\n",
       " 'Diabetes',\n",
       " 'ED visit',\n",
       " 'Eczema (medicated)',\n",
       " 'Emotional and/or behavioural problems',\n",
       " 'Ex-smokers',\n",
       " 'Excellent, very good or good parent-rated health',\n",
       " 'Excellent, very good or good self-rated health',\n",
       " 'Exclusively breastfed until 4+ months old',\n",
       " 'Exclusively breastfed until 6+ months old',\n",
       " 'Fair or poor parent-rated health',\n",
       " 'Fair or poor self-rated health',\n",
       " 'Fast food 1+ times in past week',\n",
       " 'Fast food 3+ times in past week',\n",
       " 'Fizzy drink 1+ times per week',\n",
       " 'Fizzy drink 3+ times per week',\n",
       " 'Fruit intake',\n",
       " 'GP good at explaining health conditions and treatments',\n",
       " 'GP good at involving patient in decisions',\n",
       " 'GP visit',\n",
       " 'Gout',\n",
       " 'Hazardous drinkers (past-year drinkers)',\n",
       " 'Hazardous drinkers (total population)',\n",
       " 'Healthy weight',\n",
       " 'Heart failure',\n",
       " 'Heavy episodic drinking at least monthly (past-year drinkers)',\n",
       " 'Heavy episodic drinking at least monthly (total population)',\n",
       " 'Heavy episodic drinking at least weekly (past-year drinkers)',\n",
       " 'Heavy episodic drinking at least weekly (total population)',\n",
       " 'Heavy smokers',\n",
       " 'High blood pressure (medicated)',\n",
       " 'High cholesterol (medicated)',\n",
       " 'Highly physically active',\n",
       " 'Ischaemic heart disease',\n",
       " 'Last GP visit (any location) free',\n",
       " 'Last after-hours visit free',\n",
       " 'Last practice nurse visit free',\n",
       " 'Little or no physical activity',\n",
       " 'Mean BMI (kg/m²)',\n",
       " 'Mean diastolic blood pressure (mmHg)',\n",
       " 'Mean height (cm)',\n",
       " 'Mean number of GP visits',\n",
       " 'Mean number of after-hours visits',\n",
       " 'Mean number of cigarettes',\n",
       " 'Mean number of practice nurse visits',\n",
       " 'Mean systolic blood pressure (mmHg)',\n",
       " 'Mean waist (cm)',\n",
       " 'Mean weight (kg)',\n",
       " 'Mood and/or anxiety disorder',\n",
       " 'Mood disorder (depression and/or bipolar)',\n",
       " 'Mostly smoke both manufactured and roll-your own cigarettes',\n",
       " 'Mostly smoke manufactured cigarettes',\n",
       " 'Mostly smoke roll-your-own cigarettes',\n",
       " 'Obese',\n",
       " 'Obese class 1',\n",
       " 'Obese class 2',\n",
       " 'Obese class 2 or 3',\n",
       " 'Obese class 3',\n",
       " 'Only visit dental health care worker for problems',\n",
       " 'Osteoarthritis',\n",
       " 'Overweight (but not obese)',\n",
       " 'Overweight or obese',\n",
       " 'Parent-rated health - excellent',\n",
       " 'Parent-rated health - fair',\n",
       " 'Parent-rated health - good',\n",
       " 'Parent-rated health - poor',\n",
       " 'Parent-rated health - very good',\n",
       " 'Past-year drinkers',\n",
       " 'Physical punishment',\n",
       " 'Physically active',\n",
       " 'Practice nurse visit',\n",
       " 'Private health insurance',\n",
       " 'Psychological distress',\n",
       " 'Raised blood pressure (measured)',\n",
       " 'Rheumatoid arthritis',\n",
       " 'Screen watching',\n",
       " 'Self-rated health - excellent',\n",
       " 'Self-rated health - fair',\n",
       " 'Self-rated health - good',\n",
       " 'Self-rated health - poor',\n",
       " 'Self-rated health - very good',\n",
       " 'Solid food before 4 months',\n",
       " 'Solid food before 6 months',\n",
       " 'Stroke',\n",
       " 'Teeth removed due to decay in lifetime',\n",
       " 'Teeth removed due to decay in past 12 months',\n",
       " 'Television watching',\n",
       " 'Thin',\n",
       " 'Type 2 diabetes (proxy)',\n",
       " 'Unable to get appointment within 24 hours',\n",
       " 'Underweight',\n",
       " 'Unfilled prescription due to cost',\n",
       " 'Unmet need for GP due to cost',\n",
       " 'Unmet need for GP due to lack of childcare',\n",
       " 'Unmet need for GP due to lack of transport',\n",
       " 'Unmet need for after-hours due to cost',\n",
       " 'Unmet need for after-hours due to lack of transport',\n",
       " 'Unmet need for primary health care',\n",
       " 'Vegetable and fruit intake',\n",
       " 'Vegetable intake',\n",
       " 'Waist to height ratio = 0.5'}"
      ]
     },
     "execution_count": 452,
     "metadata": {},
     "output_type": "execute_result"
    },
    {
     "data": {
      "application/javascript": [
       "\n",
       "            setTimeout(function() {\n",
       "                var nbb_cell_id = 452;\n",
       "                var nbb_unformatted_code = \"labels = set(health_survey[\\\"description\\\"])\\nlabels\";\n",
       "                var nbb_formatted_code = \"labels = set(health_survey[\\\"description\\\"])\\nlabels\";\n",
       "                var nbb_cells = Jupyter.notebook.get_cells();\n",
       "                for (var i = 0; i < nbb_cells.length; ++i) {\n",
       "                    if (nbb_cells[i].input_prompt_number == nbb_cell_id) {\n",
       "                        if (nbb_cells[i].get_text() == nbb_unformatted_code) {\n",
       "                             nbb_cells[i].set_text(nbb_formatted_code);\n",
       "                        }\n",
       "                        break;\n",
       "                    }\n",
       "                }\n",
       "            }, 500);\n",
       "            "
      ],
      "text/plain": [
       "<IPython.core.display.Javascript object>"
      ]
     },
     "metadata": {},
     "output_type": "display_data"
    }
   ],
   "source": [
    "labels = set(health_survey[\"description\"])\n",
    "labels"
   ]
  },
  {
   "cell_type": "markdown",
   "metadata": {},
   "source": [
    "Save a new dataframe object (with an appropriate name) into a new memory location, that contains all the\n",
    "rows that meet all of the following criteria:\n",
    "- That match six of the ‘description’ labels of your choosing. For instance, if you were interested in\n",
    "knowing about ‘Physically active’, ‘Anxiety disorder’, ‘Daily smokers’, ‘Diabetes’, ‘Healthy weight’, and\n",
    "‘ Self-rated health - very good’, then your dataframe would contain only rows that matched these\n",
    "‘description’ labels,\n",
    "- That also match the ‘Total’ label in the Group column\n",
    "- That also match the ‘adult’ label in the population column"
   ]
  },
  {
   "cell_type": "code",
   "execution_count": 453,
   "metadata": {},
   "outputs": [
    {
     "data": {
      "text/html": [
       "<div>\n",
       "<style scoped>\n",
       "    .dataframe tbody tr th:only-of-type {\n",
       "        vertical-align: middle;\n",
       "    }\n",
       "\n",
       "    .dataframe tbody tr th {\n",
       "        vertical-align: top;\n",
       "    }\n",
       "\n",
       "    .dataframe thead th {\n",
       "        text-align: right;\n",
       "    }\n",
       "</style>\n",
       "<table border=\"1\" class=\"dataframe\">\n",
       "  <thead>\n",
       "    <tr style=\"text-align: right;\">\n",
       "      <th></th>\n",
       "      <th>population</th>\n",
       "      <th>description</th>\n",
       "      <th>group</th>\n",
       "      <th>2016</th>\n",
       "      <th>2015</th>\n",
       "      <th>2014</th>\n",
       "      <th>2013</th>\n",
       "      <th>2012</th>\n",
       "      <th>2011</th>\n",
       "      <th>2006</th>\n",
       "      <th>2007</th>\n",
       "    </tr>\n",
       "  </thead>\n",
       "  <tbody>\n",
       "    <tr>\n",
       "      <th>0</th>\n",
       "      <td>adults</td>\n",
       "      <td>Physically active</td>\n",
       "      <td>Total</td>\n",
       "      <td>50.2</td>\n",
       "      <td>47.7</td>\n",
       "      <td>50.7</td>\n",
       "      <td>52.1</td>\n",
       "      <td>51.7</td>\n",
       "      <td>54.4</td>\n",
       "      <td>52.0</td>\n",
       "      <td>NaN</td>\n",
       "    </tr>\n",
       "    <tr>\n",
       "      <th>112</th>\n",
       "      <td>adults</td>\n",
       "      <td>Anxiety disorder</td>\n",
       "      <td>Total</td>\n",
       "      <td>10.3</td>\n",
       "      <td>9.5</td>\n",
       "      <td>7.8</td>\n",
       "      <td>8.4</td>\n",
       "      <td>6.4</td>\n",
       "      <td>6.1</td>\n",
       "      <td>4.3</td>\n",
       "      <td>NaN</td>\n",
       "    </tr>\n",
       "    <tr>\n",
       "      <th>821</th>\n",
       "      <td>adults</td>\n",
       "      <td>Self-rated health - good</td>\n",
       "      <td>Total</td>\n",
       "      <td>32.9</td>\n",
       "      <td>32.8</td>\n",
       "      <td>32.6</td>\n",
       "      <td>28.3</td>\n",
       "      <td>29.9</td>\n",
       "      <td>31.7</td>\n",
       "      <td>29.2</td>\n",
       "      <td>NaN</td>\n",
       "    </tr>\n",
       "    <tr>\n",
       "      <th>1087</th>\n",
       "      <td>adults</td>\n",
       "      <td>Psychological distress</td>\n",
       "      <td>Total</td>\n",
       "      <td>7.6</td>\n",
       "      <td>6.8</td>\n",
       "      <td>6.2</td>\n",
       "      <td>6.2</td>\n",
       "      <td>6.1</td>\n",
       "      <td>4.5</td>\n",
       "      <td>6.6</td>\n",
       "      <td>NaN</td>\n",
       "    </tr>\n",
       "    <tr>\n",
       "      <th>1497</th>\n",
       "      <td>adults</td>\n",
       "      <td>Chronic pain</td>\n",
       "      <td>Total</td>\n",
       "      <td>20.2</td>\n",
       "      <td>20.8</td>\n",
       "      <td>19.9</td>\n",
       "      <td>19.0</td>\n",
       "      <td>17.7</td>\n",
       "      <td>16.2</td>\n",
       "      <td>17.0</td>\n",
       "      <td>NaN</td>\n",
       "    </tr>\n",
       "    <tr>\n",
       "      <th>1541</th>\n",
       "      <td>adults</td>\n",
       "      <td>Raised blood pressure (measured)</td>\n",
       "      <td>Total</td>\n",
       "      <td>22.3</td>\n",
       "      <td>21.5</td>\n",
       "      <td>20.8</td>\n",
       "      <td>23.7</td>\n",
       "      <td>22.5</td>\n",
       "      <td>NaN</td>\n",
       "      <td>NaN</td>\n",
       "      <td>NaN</td>\n",
       "    </tr>\n",
       "  </tbody>\n",
       "</table>\n",
       "</div>"
      ],
      "text/plain": [
       "     population                       description  group  2016  2015  2014  \\\n",
       "0        adults                 Physically active  Total  50.2  47.7  50.7   \n",
       "112      adults                  Anxiety disorder  Total  10.3   9.5   7.8   \n",
       "821      adults          Self-rated health - good  Total  32.9  32.8  32.6   \n",
       "1087     adults            Psychological distress  Total   7.6   6.8   6.2   \n",
       "1497     adults                      Chronic pain  Total  20.2  20.8  19.9   \n",
       "1541     adults  Raised blood pressure (measured)  Total  22.3  21.5  20.8   \n",
       "\n",
       "      2013  2012  2011  2006  2007  \n",
       "0     52.1  51.7  54.4  52.0   NaN  \n",
       "112    8.4   6.4   6.1   4.3   NaN  \n",
       "821   28.3  29.9  31.7  29.2   NaN  \n",
       "1087   6.2   6.1   4.5   6.6   NaN  \n",
       "1497  19.0  17.7  16.2  17.0   NaN  \n",
       "1541  23.7  22.5   NaN   NaN   NaN  "
      ]
     },
     "execution_count": 453,
     "metadata": {},
     "output_type": "execute_result"
    },
    {
     "data": {
      "application/javascript": [
       "\n",
       "            setTimeout(function() {\n",
       "                var nbb_cell_id = 453;\n",
       "                var nbb_unformatted_code = \"chosen_labels = [\\n    \\\"Psychological distress\\\",\\n    \\\"Anxiety disorder\\\",\\n    \\\"Raised blood pressure (measured)\\\",\\n    \\\"Self-rated health - good\\\",\\n    \\\"Chronic pain\\\",\\n    \\\"Physically active\\\",\\n]\\nrow_mask = [\\n    d in chosen_labels and g == \\\"Total\\\" and p == \\\"adults\\\"\\n    for d, g, p in zip(\\n        health_survey[\\\"description\\\"],\\n        health_survey[\\\"group\\\"],\\n        health_survey[\\\"population\\\"],\\n    )\\n]\\n\\nfiltered = health_survey[row_mask]\\nfiltered\";\n",
       "                var nbb_formatted_code = \"chosen_labels = [\\n    \\\"Psychological distress\\\",\\n    \\\"Anxiety disorder\\\",\\n    \\\"Raised blood pressure (measured)\\\",\\n    \\\"Self-rated health - good\\\",\\n    \\\"Chronic pain\\\",\\n    \\\"Physically active\\\",\\n]\\nrow_mask = [\\n    d in chosen_labels and g == \\\"Total\\\" and p == \\\"adults\\\"\\n    for d, g, p in zip(\\n        health_survey[\\\"description\\\"],\\n        health_survey[\\\"group\\\"],\\n        health_survey[\\\"population\\\"],\\n    )\\n]\\n\\nfiltered = health_survey[row_mask]\\nfiltered\";\n",
       "                var nbb_cells = Jupyter.notebook.get_cells();\n",
       "                for (var i = 0; i < nbb_cells.length; ++i) {\n",
       "                    if (nbb_cells[i].input_prompt_number == nbb_cell_id) {\n",
       "                        if (nbb_cells[i].get_text() == nbb_unformatted_code) {\n",
       "                             nbb_cells[i].set_text(nbb_formatted_code);\n",
       "                        }\n",
       "                        break;\n",
       "                    }\n",
       "                }\n",
       "            }, 500);\n",
       "            "
      ],
      "text/plain": [
       "<IPython.core.display.Javascript object>"
      ]
     },
     "metadata": {},
     "output_type": "display_data"
    }
   ],
   "source": [
    "chosen_labels = [\n",
    "    \"Psychological distress\",\n",
    "    \"Anxiety disorder\",\n",
    "    \"Raised blood pressure (measured)\",\n",
    "    \"Self-rated health - good\",\n",
    "    \"Chronic pain\",\n",
    "    \"Physically active\",\n",
    "]\n",
    "row_mask = [\n",
    "    d in chosen_labels and g == \"Total\" and p == \"adults\"\n",
    "    for d, g, p in zip(\n",
    "        health_survey[\"description\"],\n",
    "        health_survey[\"group\"],\n",
    "        health_survey[\"population\"],\n",
    "    )\n",
    "]\n",
    "\n",
    "filtered = health_survey[row_mask]\n",
    "filtered"
   ]
  },
  {
   "cell_type": "markdown",
   "metadata": {},
   "source": [
    "### c) Wrangling and reshaping:"
   ]
  },
  {
   "cell_type": "markdown",
   "metadata": {},
   "source": [
    "Now wrangle and reshape the dataframe that you produced in c) until you end up with the result pictured\n",
    "below. Your column names and cell values will be different as you will have chosen different\n",
    "‘short.description’ labels. Please note that the index is ‘Year’ and it is sorted in ascending year order. No\n",
    "marks will be awarded for solutions that involve hard-coding cell values."
   ]
  },
  {
   "cell_type": "code",
   "execution_count": 454,
   "metadata": {},
   "outputs": [
    {
     "data": {
      "text/html": [
       "<div>\n",
       "<style scoped>\n",
       "    .dataframe tbody tr th:only-of-type {\n",
       "        vertical-align: middle;\n",
       "    }\n",
       "\n",
       "    .dataframe tbody tr th {\n",
       "        vertical-align: top;\n",
       "    }\n",
       "\n",
       "    .dataframe thead th {\n",
       "        text-align: right;\n",
       "    }\n",
       "</style>\n",
       "<table border=\"1\" class=\"dataframe\">\n",
       "  <thead>\n",
       "    <tr style=\"text-align: right;\">\n",
       "      <th>description</th>\n",
       "      <th>Physically active</th>\n",
       "      <th>Anxiety disorder</th>\n",
       "      <th>Self-rated health - good</th>\n",
       "      <th>Psychological distress</th>\n",
       "      <th>Chronic pain</th>\n",
       "      <th>Raised blood pressure (measured)</th>\n",
       "    </tr>\n",
       "    <tr>\n",
       "      <th>Year</th>\n",
       "      <th></th>\n",
       "      <th></th>\n",
       "      <th></th>\n",
       "      <th></th>\n",
       "      <th></th>\n",
       "      <th></th>\n",
       "    </tr>\n",
       "  </thead>\n",
       "  <tbody>\n",
       "    <tr>\n",
       "      <th>2016</th>\n",
       "      <td>50.2</td>\n",
       "      <td>10.3</td>\n",
       "      <td>32.9</td>\n",
       "      <td>7.6</td>\n",
       "      <td>20.2</td>\n",
       "      <td>22.3</td>\n",
       "    </tr>\n",
       "    <tr>\n",
       "      <th>2015</th>\n",
       "      <td>47.7</td>\n",
       "      <td>9.5</td>\n",
       "      <td>32.8</td>\n",
       "      <td>6.8</td>\n",
       "      <td>20.8</td>\n",
       "      <td>21.5</td>\n",
       "    </tr>\n",
       "    <tr>\n",
       "      <th>2014</th>\n",
       "      <td>50.7</td>\n",
       "      <td>7.8</td>\n",
       "      <td>32.6</td>\n",
       "      <td>6.2</td>\n",
       "      <td>19.9</td>\n",
       "      <td>20.8</td>\n",
       "    </tr>\n",
       "    <tr>\n",
       "      <th>2013</th>\n",
       "      <td>52.1</td>\n",
       "      <td>8.4</td>\n",
       "      <td>28.3</td>\n",
       "      <td>6.2</td>\n",
       "      <td>19.0</td>\n",
       "      <td>23.7</td>\n",
       "    </tr>\n",
       "    <tr>\n",
       "      <th>2012</th>\n",
       "      <td>51.7</td>\n",
       "      <td>6.4</td>\n",
       "      <td>29.9</td>\n",
       "      <td>6.1</td>\n",
       "      <td>17.7</td>\n",
       "      <td>22.5</td>\n",
       "    </tr>\n",
       "    <tr>\n",
       "      <th>2011</th>\n",
       "      <td>54.4</td>\n",
       "      <td>6.1</td>\n",
       "      <td>31.7</td>\n",
       "      <td>4.5</td>\n",
       "      <td>16.2</td>\n",
       "      <td>NaN</td>\n",
       "    </tr>\n",
       "    <tr>\n",
       "      <th>2006</th>\n",
       "      <td>52.0</td>\n",
       "      <td>4.3</td>\n",
       "      <td>29.2</td>\n",
       "      <td>6.6</td>\n",
       "      <td>17.0</td>\n",
       "      <td>NaN</td>\n",
       "    </tr>\n",
       "    <tr>\n",
       "      <th>2007</th>\n",
       "      <td>NaN</td>\n",
       "      <td>NaN</td>\n",
       "      <td>NaN</td>\n",
       "      <td>NaN</td>\n",
       "      <td>NaN</td>\n",
       "      <td>NaN</td>\n",
       "    </tr>\n",
       "  </tbody>\n",
       "</table>\n",
       "</div>"
      ],
      "text/plain": [
       "description  Physically active  Anxiety disorder  Self-rated health - good  \\\n",
       "Year                                                                         \n",
       "2016                      50.2              10.3                      32.9   \n",
       "2015                      47.7               9.5                      32.8   \n",
       "2014                      50.7               7.8                      32.6   \n",
       "2013                      52.1               8.4                      28.3   \n",
       "2012                      51.7               6.4                      29.9   \n",
       "2011                      54.4               6.1                      31.7   \n",
       "2006                      52.0               4.3                      29.2   \n",
       "2007                       NaN               NaN                       NaN   \n",
       "\n",
       "description  Psychological distress  Chronic pain  \\\n",
       "Year                                                \n",
       "2016                            7.6          20.2   \n",
       "2015                            6.8          20.8   \n",
       "2014                            6.2          19.9   \n",
       "2013                            6.2          19.0   \n",
       "2012                            6.1          17.7   \n",
       "2011                            4.5          16.2   \n",
       "2006                            6.6          17.0   \n",
       "2007                            NaN           NaN   \n",
       "\n",
       "description  Raised blood pressure (measured)  \n",
       "Year                                           \n",
       "2016                                     22.3  \n",
       "2015                                     21.5  \n",
       "2014                                     20.8  \n",
       "2013                                     23.7  \n",
       "2012                                     22.5  \n",
       "2011                                      NaN  \n",
       "2006                                      NaN  \n",
       "2007                                      NaN  "
      ]
     },
     "execution_count": 454,
     "metadata": {},
     "output_type": "execute_result"
    },
    {
     "data": {
      "application/javascript": [
       "\n",
       "            setTimeout(function() {\n",
       "                var nbb_cell_id = 454;\n",
       "                var nbb_unformatted_code = \"name_map = {key: filtered.loc[key][\\\"description\\\"] for key in filtered.index}\\nreshaped = filtered[[c for c in filtered.columns if c.startswith(\\\"20\\\")]].transpose()\\nreshaped.rename(columns=name_map, inplace=True)\\nreshaped.columns.name = \\\"description\\\"\\nreshaped.index.name = \\\"Year\\\"\\nreshaped\";\n",
       "                var nbb_formatted_code = \"name_map = {key: filtered.loc[key][\\\"description\\\"] for key in filtered.index}\\nreshaped = filtered[[c for c in filtered.columns if c.startswith(\\\"20\\\")]].transpose()\\nreshaped.rename(columns=name_map, inplace=True)\\nreshaped.columns.name = \\\"description\\\"\\nreshaped.index.name = \\\"Year\\\"\\nreshaped\";\n",
       "                var nbb_cells = Jupyter.notebook.get_cells();\n",
       "                for (var i = 0; i < nbb_cells.length; ++i) {\n",
       "                    if (nbb_cells[i].input_prompt_number == nbb_cell_id) {\n",
       "                        if (nbb_cells[i].get_text() == nbb_unformatted_code) {\n",
       "                             nbb_cells[i].set_text(nbb_formatted_code);\n",
       "                        }\n",
       "                        break;\n",
       "                    }\n",
       "                }\n",
       "            }, 500);\n",
       "            "
      ],
      "text/plain": [
       "<IPython.core.display.Javascript object>"
      ]
     },
     "metadata": {},
     "output_type": "display_data"
    }
   ],
   "source": [
    "name_map = {key: filtered.loc[key][\"description\"] for key in filtered.index}\n",
    "reshaped = filtered[[c for c in filtered.columns if c.startswith(\"20\")]].transpose()\n",
    "reshaped.rename(columns=name_map, inplace=True)\n",
    "reshaped.columns.name = \"description\"\n",
    "reshaped.index.name = \"Year\"\n",
    "reshaped"
   ]
  },
  {
   "cell_type": "markdown",
   "metadata": {},
   "source": [
    "### d) Creating a function:"
   ]
  },
  {
   "cell_type": "markdown",
   "metadata": {},
   "source": [
    "Write a function that will perform the wrangling from b and c for any combination of population, group and\n",
    "any number of description labels, e.g. population = ‘adults’, group = ‘Women’, description = [‘Past-year\n",
    "drinkers’, ‘Amphetamine use’ ...]."
   ]
  },
  {
   "cell_type": "code",
   "execution_count": 455,
   "metadata": {},
   "outputs": [
    {
     "data": {
      "application/javascript": [
       "\n",
       "            setTimeout(function() {\n",
       "                var nbb_cell_id = 455;\n",
       "                var nbb_unformatted_code = \"def wrangle_data(df, population, group, descriptions):\\n    row_mask = [\\n        d in descriptions and g == group and p == population\\n        for d, g, p in zip(df[\\\"description\\\"], df[\\\"group\\\"], df[\\\"population\\\"])\\n    ]\\n    filtered = df[row_mask]\\n\\n    name_map = {key: filtered.loc[key][\\\"description\\\"] for key in filtered.index}\\n    reshaped = filtered[[c for c in filtered.columns if c.startswith(\\\"20\\\")]].transpose()\\n    reshaped.rename(columns=name_map, inplace=True)\\n    reshaped.columns.name = \\\"description\\\"\\n    reshaped.index.name = \\\"Year\\\"\\n    return reshaped\";\n",
       "                var nbb_formatted_code = \"def wrangle_data(df, population, group, descriptions):\\n    row_mask = [\\n        d in descriptions and g == group and p == population\\n        for d, g, p in zip(df[\\\"description\\\"], df[\\\"group\\\"], df[\\\"population\\\"])\\n    ]\\n    filtered = df[row_mask]\\n\\n    name_map = {key: filtered.loc[key][\\\"description\\\"] for key in filtered.index}\\n    reshaped = filtered[[c for c in filtered.columns if c.startswith(\\\"20\\\")]].transpose()\\n    reshaped.rename(columns=name_map, inplace=True)\\n    reshaped.columns.name = \\\"description\\\"\\n    reshaped.index.name = \\\"Year\\\"\\n    return reshaped\";\n",
       "                var nbb_cells = Jupyter.notebook.get_cells();\n",
       "                for (var i = 0; i < nbb_cells.length; ++i) {\n",
       "                    if (nbb_cells[i].input_prompt_number == nbb_cell_id) {\n",
       "                        if (nbb_cells[i].get_text() == nbb_unformatted_code) {\n",
       "                             nbb_cells[i].set_text(nbb_formatted_code);\n",
       "                        }\n",
       "                        break;\n",
       "                    }\n",
       "                }\n",
       "            }, 500);\n",
       "            "
      ],
      "text/plain": [
       "<IPython.core.display.Javascript object>"
      ]
     },
     "metadata": {},
     "output_type": "display_data"
    }
   ],
   "source": [
    "def wrangle_data(df, population, group, descriptions):\n",
    "    row_mask = [\n",
    "        d in descriptions and g == group and p == population\n",
    "        for d, g, p in zip(df[\"description\"], df[\"group\"], df[\"population\"])\n",
    "    ]\n",
    "    filtered = df[row_mask]\n",
    "\n",
    "    name_map = {key: filtered.loc[key][\"description\"] for key in filtered.index}\n",
    "    reshaped = filtered[[c for c in filtered.columns if c.startswith(\"20\")]].transpose()\n",
    "    reshaped.rename(columns=name_map, inplace=True)\n",
    "    reshaped.columns.name = \"description\"\n",
    "    reshaped.index.name = \"Year\"\n",
    "    return reshaped"
   ]
  },
  {
   "cell_type": "markdown",
   "metadata": {},
   "source": [
    "Test the function with some different values for your arguments and show that it returns dataframes like\n",
    "you produced in c)"
   ]
  },
  {
   "cell_type": "code",
   "execution_count": 456,
   "metadata": {},
   "outputs": [
    {
     "data": {
      "text/html": [
       "<div>\n",
       "<style scoped>\n",
       "    .dataframe tbody tr th:only-of-type {\n",
       "        vertical-align: middle;\n",
       "    }\n",
       "\n",
       "    .dataframe tbody tr th {\n",
       "        vertical-align: top;\n",
       "    }\n",
       "\n",
       "    .dataframe thead th {\n",
       "        text-align: right;\n",
       "    }\n",
       "</style>\n",
       "<table border=\"1\" class=\"dataframe\">\n",
       "  <thead>\n",
       "    <tr style=\"text-align: right;\">\n",
       "      <th>description</th>\n",
       "      <th>Physically active</th>\n",
       "      <th>Anxiety disorder</th>\n",
       "      <th>Current smokers</th>\n",
       "      <th>Ischaemic heart disease</th>\n",
       "      <th>Chronic pain</th>\n",
       "      <th>Vegetable intake</th>\n",
       "    </tr>\n",
       "    <tr>\n",
       "      <th>Year</th>\n",
       "      <th></th>\n",
       "      <th></th>\n",
       "      <th></th>\n",
       "      <th></th>\n",
       "      <th></th>\n",
       "      <th></th>\n",
       "    </tr>\n",
       "  </thead>\n",
       "  <tbody>\n",
       "    <tr>\n",
       "      <th>2016</th>\n",
       "      <td>50.2</td>\n",
       "      <td>10.3</td>\n",
       "      <td>15.7</td>\n",
       "      <td>4.9</td>\n",
       "      <td>20.2</td>\n",
       "      <td>61.7</td>\n",
       "    </tr>\n",
       "    <tr>\n",
       "      <th>2015</th>\n",
       "      <td>47.7</td>\n",
       "      <td>9.5</td>\n",
       "      <td>16.3</td>\n",
       "      <td>4.6</td>\n",
       "      <td>20.8</td>\n",
       "      <td>62.5</td>\n",
       "    </tr>\n",
       "    <tr>\n",
       "      <th>2014</th>\n",
       "      <td>50.7</td>\n",
       "      <td>7.8</td>\n",
       "      <td>16.6</td>\n",
       "      <td>4.6</td>\n",
       "      <td>19.9</td>\n",
       "      <td>64.9</td>\n",
       "    </tr>\n",
       "    <tr>\n",
       "      <th>2013</th>\n",
       "      <td>52.1</td>\n",
       "      <td>8.4</td>\n",
       "      <td>17.4</td>\n",
       "      <td>4.7</td>\n",
       "      <td>19.0</td>\n",
       "      <td>64.5</td>\n",
       "    </tr>\n",
       "    <tr>\n",
       "      <th>2012</th>\n",
       "      <td>51.7</td>\n",
       "      <td>6.4</td>\n",
       "      <td>17.7</td>\n",
       "      <td>4.8</td>\n",
       "      <td>17.7</td>\n",
       "      <td>66.7</td>\n",
       "    </tr>\n",
       "    <tr>\n",
       "      <th>2011</th>\n",
       "      <td>54.4</td>\n",
       "      <td>6.1</td>\n",
       "      <td>18.2</td>\n",
       "      <td>5.5</td>\n",
       "      <td>16.2</td>\n",
       "      <td>68.6</td>\n",
       "    </tr>\n",
       "    <tr>\n",
       "      <th>2006</th>\n",
       "      <td>52.0</td>\n",
       "      <td>4.3</td>\n",
       "      <td>20.1</td>\n",
       "      <td>5.3</td>\n",
       "      <td>17.0</td>\n",
       "      <td>63.9</td>\n",
       "    </tr>\n",
       "    <tr>\n",
       "      <th>2007</th>\n",
       "      <td>NaN</td>\n",
       "      <td>NaN</td>\n",
       "      <td>NaN</td>\n",
       "      <td>NaN</td>\n",
       "      <td>NaN</td>\n",
       "      <td>NaN</td>\n",
       "    </tr>\n",
       "  </tbody>\n",
       "</table>\n",
       "</div>"
      ],
      "text/plain": [
       "description  Physically active  Anxiety disorder  Current smokers  \\\n",
       "Year                                                                \n",
       "2016                      50.2              10.3             15.7   \n",
       "2015                      47.7               9.5             16.3   \n",
       "2014                      50.7               7.8             16.6   \n",
       "2013                      52.1               8.4             17.4   \n",
       "2012                      51.7               6.4             17.7   \n",
       "2011                      54.4               6.1             18.2   \n",
       "2006                      52.0               4.3             20.1   \n",
       "2007                       NaN               NaN              NaN   \n",
       "\n",
       "description  Ischaemic heart disease  Chronic pain  Vegetable intake  \n",
       "Year                                                                  \n",
       "2016                             4.9          20.2              61.7  \n",
       "2015                             4.6          20.8              62.5  \n",
       "2014                             4.6          19.9              64.9  \n",
       "2013                             4.7          19.0              64.5  \n",
       "2012                             4.8          17.7              66.7  \n",
       "2011                             5.5          16.2              68.6  \n",
       "2006                             5.3          17.0              63.9  \n",
       "2007                             NaN           NaN               NaN  "
      ]
     },
     "execution_count": 456,
     "metadata": {},
     "output_type": "execute_result"
    },
    {
     "data": {
      "application/javascript": [
       "\n",
       "            setTimeout(function() {\n",
       "                var nbb_cell_id = 456;\n",
       "                var nbb_unformatted_code = \"wrangle_data(\\n    health_survey,\\n    \\\"adults\\\",\\n    \\\"Total\\\",\\n    [\\n        \\\"Ischaemic heart disease\\\",\\n        \\\"Anxiety disorder\\\",\\n        \\\"Vegetable intake\\\",\\n        \\\"Physically active\\\",\\n        \\\"Chronic pain\\\",\\n        \\\"Current smokers\\\",\\n    ],\\n)\";\n",
       "                var nbb_formatted_code = \"wrangle_data(\\n    health_survey,\\n    \\\"adults\\\",\\n    \\\"Total\\\",\\n    [\\n        \\\"Ischaemic heart disease\\\",\\n        \\\"Anxiety disorder\\\",\\n        \\\"Vegetable intake\\\",\\n        \\\"Physically active\\\",\\n        \\\"Chronic pain\\\",\\n        \\\"Current smokers\\\",\\n    ],\\n)\";\n",
       "                var nbb_cells = Jupyter.notebook.get_cells();\n",
       "                for (var i = 0; i < nbb_cells.length; ++i) {\n",
       "                    if (nbb_cells[i].input_prompt_number == nbb_cell_id) {\n",
       "                        if (nbb_cells[i].get_text() == nbb_unformatted_code) {\n",
       "                             nbb_cells[i].set_text(nbb_formatted_code);\n",
       "                        }\n",
       "                        break;\n",
       "                    }\n",
       "                }\n",
       "            }, 500);\n",
       "            "
      ],
      "text/plain": [
       "<IPython.core.display.Javascript object>"
      ]
     },
     "metadata": {},
     "output_type": "display_data"
    }
   ],
   "source": [
    "wrangle_data(\n",
    "    health_survey,\n",
    "    \"adults\",\n",
    "    \"Total\",\n",
    "    [\n",
    "        \"Ischaemic heart disease\",\n",
    "        \"Anxiety disorder\",\n",
    "        \"Vegetable intake\",\n",
    "        \"Physically active\",\n",
    "        \"Chronic pain\",\n",
    "        \"Current smokers\",\n",
    "    ],\n",
    ")"
   ]
  },
  {
   "cell_type": "code",
   "execution_count": 457,
   "metadata": {},
   "outputs": [
    {
     "data": {
      "text/html": [
       "<div>\n",
       "<style scoped>\n",
       "    .dataframe tbody tr th:only-of-type {\n",
       "        vertical-align: middle;\n",
       "    }\n",
       "\n",
       "    .dataframe tbody tr th {\n",
       "        vertical-align: top;\n",
       "    }\n",
       "\n",
       "    .dataframe thead th {\n",
       "        text-align: right;\n",
       "    }\n",
       "</style>\n",
       "<table border=\"1\" class=\"dataframe\">\n",
       "  <thead>\n",
       "    <tr style=\"text-align: right;\">\n",
       "      <th>description</th>\n",
       "      <th>Fruit intake</th>\n",
       "      <th>Teeth removed due to decay in past 12 months</th>\n",
       "      <th>Unmet need for GP due to lack of childcare</th>\n",
       "      <th>Vegetable intake</th>\n",
       "      <th>Television watching</th>\n",
       "      <th>Thin</th>\n",
       "    </tr>\n",
       "    <tr>\n",
       "      <th>Year</th>\n",
       "      <th></th>\n",
       "      <th></th>\n",
       "      <th></th>\n",
       "      <th></th>\n",
       "      <th></th>\n",
       "      <th></th>\n",
       "    </tr>\n",
       "  </thead>\n",
       "  <tbody>\n",
       "    <tr>\n",
       "      <th>2016</th>\n",
       "      <td>74.4</td>\n",
       "      <td>3.6</td>\n",
       "      <td>1.3</td>\n",
       "      <td>51.6</td>\n",
       "      <td>39.2</td>\n",
       "      <td>4.5</td>\n",
       "    </tr>\n",
       "    <tr>\n",
       "      <th>2015</th>\n",
       "      <td>73.9</td>\n",
       "      <td>3.4</td>\n",
       "      <td>2.3</td>\n",
       "      <td>48.7</td>\n",
       "      <td>45.5</td>\n",
       "      <td>5.1</td>\n",
       "    </tr>\n",
       "    <tr>\n",
       "      <th>2014</th>\n",
       "      <td>77.5</td>\n",
       "      <td>3.0</td>\n",
       "      <td>2.0</td>\n",
       "      <td>59.2</td>\n",
       "      <td>44.9</td>\n",
       "      <td>4.0</td>\n",
       "    </tr>\n",
       "    <tr>\n",
       "      <th>2013</th>\n",
       "      <td>75.2</td>\n",
       "      <td>4.3</td>\n",
       "      <td>2.2</td>\n",
       "      <td>57.3</td>\n",
       "      <td>50.9</td>\n",
       "      <td>4.9</td>\n",
       "    </tr>\n",
       "    <tr>\n",
       "      <th>2012</th>\n",
       "      <td>75.8</td>\n",
       "      <td>4.2</td>\n",
       "      <td>2.9</td>\n",
       "      <td>59.3</td>\n",
       "      <td>50.7</td>\n",
       "      <td>5.2</td>\n",
       "    </tr>\n",
       "    <tr>\n",
       "      <th>2011</th>\n",
       "      <td>75.8</td>\n",
       "      <td>3.4</td>\n",
       "      <td>2.7</td>\n",
       "      <td>59.0</td>\n",
       "      <td>53.7</td>\n",
       "      <td>4.6</td>\n",
       "    </tr>\n",
       "    <tr>\n",
       "      <th>2006</th>\n",
       "      <td>NaN</td>\n",
       "      <td>NaN</td>\n",
       "      <td>NaN</td>\n",
       "      <td>NaN</td>\n",
       "      <td>NaN</td>\n",
       "      <td>3.2</td>\n",
       "    </tr>\n",
       "    <tr>\n",
       "      <th>2007</th>\n",
       "      <td>NaN</td>\n",
       "      <td>NaN</td>\n",
       "      <td>NaN</td>\n",
       "      <td>NaN</td>\n",
       "      <td>NaN</td>\n",
       "      <td>NaN</td>\n",
       "    </tr>\n",
       "  </tbody>\n",
       "</table>\n",
       "</div>"
      ],
      "text/plain": [
       "description  Fruit intake  Teeth removed due to decay in past 12 months  \\\n",
       "Year                                                                      \n",
       "2016                 74.4                                           3.6   \n",
       "2015                 73.9                                           3.4   \n",
       "2014                 77.5                                           3.0   \n",
       "2013                 75.2                                           4.3   \n",
       "2012                 75.8                                           4.2   \n",
       "2011                 75.8                                           3.4   \n",
       "2006                  NaN                                           NaN   \n",
       "2007                  NaN                                           NaN   \n",
       "\n",
       "description  Unmet need for GP due to lack of childcare  Vegetable intake  \\\n",
       "Year                                                                        \n",
       "2016                                                1.3              51.6   \n",
       "2015                                                2.3              48.7   \n",
       "2014                                                2.0              59.2   \n",
       "2013                                                2.2              57.3   \n",
       "2012                                                2.9              59.3   \n",
       "2011                                                2.7              59.0   \n",
       "2006                                                NaN               NaN   \n",
       "2007                                                NaN               NaN   \n",
       "\n",
       "description  Television watching  Thin  \n",
       "Year                                    \n",
       "2016                        39.2   4.5  \n",
       "2015                        45.5   5.1  \n",
       "2014                        44.9   4.0  \n",
       "2013                        50.9   4.9  \n",
       "2012                        50.7   5.2  \n",
       "2011                        53.7   4.6  \n",
       "2006                         NaN   3.2  \n",
       "2007                         NaN   NaN  "
      ]
     },
     "execution_count": 457,
     "metadata": {},
     "output_type": "execute_result"
    },
    {
     "data": {
      "application/javascript": [
       "\n",
       "            setTimeout(function() {\n",
       "                var nbb_cell_id = 457;\n",
       "                var nbb_unformatted_code = \"wrangle_data(\\n    health_survey,\\n    \\\"children\\\",\\n    \\\"Girls\\\",\\n    [\\n        \\\"Thin\\\",\\n        \\\"Teeth removed due to decay in past 12 months\\\",\\n        \\\"Television watching\\\",\\n        \\\"Fruit intake\\\",\\n        \\\"Unmet need for GP due to lack of childcare\\\",\\n        \\\"Vegetable intake\\\",\\n    ],\\n)\";\n",
       "                var nbb_formatted_code = \"wrangle_data(\\n    health_survey,\\n    \\\"children\\\",\\n    \\\"Girls\\\",\\n    [\\n        \\\"Thin\\\",\\n        \\\"Teeth removed due to decay in past 12 months\\\",\\n        \\\"Television watching\\\",\\n        \\\"Fruit intake\\\",\\n        \\\"Unmet need for GP due to lack of childcare\\\",\\n        \\\"Vegetable intake\\\",\\n    ],\\n)\";\n",
       "                var nbb_cells = Jupyter.notebook.get_cells();\n",
       "                for (var i = 0; i < nbb_cells.length; ++i) {\n",
       "                    if (nbb_cells[i].input_prompt_number == nbb_cell_id) {\n",
       "                        if (nbb_cells[i].get_text() == nbb_unformatted_code) {\n",
       "                             nbb_cells[i].set_text(nbb_formatted_code);\n",
       "                        }\n",
       "                        break;\n",
       "                    }\n",
       "                }\n",
       "            }, 500);\n",
       "            "
      ],
      "text/plain": [
       "<IPython.core.display.Javascript object>"
      ]
     },
     "metadata": {},
     "output_type": "display_data"
    }
   ],
   "source": [
    "wrangle_data(\n",
    "    health_survey,\n",
    "    \"children\",\n",
    "    \"Girls\",\n",
    "    [\n",
    "        \"Thin\",\n",
    "        \"Teeth removed due to decay in past 12 months\",\n",
    "        \"Television watching\",\n",
    "        \"Fruit intake\",\n",
    "        \"Unmet need for GP due to lack of childcare\",\n",
    "        \"Vegetable intake\",\n",
    "    ],\n",
    ")"
   ]
  },
  {
   "cell_type": "markdown",
   "metadata": {},
   "source": [
    "### e) Plotting:"
   ]
  },
  {
   "cell_type": "markdown",
   "metadata": {},
   "source": [
    "Create two plots of your choosing by using one or more of the dataframes that you have created. Ensure\n",
    "they are appropriate for encoding the data you are displaying. Also ensure they are correctly labelled, with\n",
    "appropriate axis names and tick labels, and a title. We should be able to understand what the plots are\n",
    "showing us without having to read the code."
   ]
  },
  {
   "cell_type": "markdown",
   "metadata": {},
   "source": [
    "#### plot 1"
   ]
  },
  {
   "cell_type": "code",
   "execution_count": 458,
   "metadata": {},
   "outputs": [
    {
     "data": {
      "image/png": "[encoded data removed]",
      "text/plain": [
       "<Figure size 1080x720 with 1 Axes>"
      ]
     },
     "metadata": {},
     "output_type": "display_data"
    },
    {
     "data": {
      "application/javascript": [
       "\n",
       "            setTimeout(function() {\n",
       "                var nbb_cell_id = 458;\n",
       "                var nbb_unformatted_code = \"adults_weight = wrangle_data(\\n    health_survey,\\n    \\\"adults\\\",\\n    \\\"Total\\\",\\n    [\\\"Healthy weight\\\", \\\"Overweight or obese\\\", \\\"Underweight\\\"],\\n)\\nsns.set_style(\\\"whitegrid\\\")\\nsns.lineplot(data=adults_weight).set(\\n    xlabel=\\\"Year\\\",\\n    ylabel=\\\"Percentage of population\\\",\\n    title=\\\"Weight Status of Kiwi Adults\\\"\\n)\\nsns.despine(left=True, bottom=True)\";\n",
       "                var nbb_formatted_code = \"adults_weight = wrangle_data(\\n    health_survey,\\n    \\\"adults\\\",\\n    \\\"Total\\\",\\n    [\\\"Healthy weight\\\", \\\"Overweight or obese\\\", \\\"Underweight\\\"],\\n)\\nsns.set_style(\\\"whitegrid\\\")\\nsns.lineplot(data=adults_weight).set(\\n    xlabel=\\\"Year\\\",\\n    ylabel=\\\"Percentage of population\\\",\\n    title=\\\"Weight Status of Kiwi Adults\\\",\\n)\\nsns.despine(left=True, bottom=True)\";\n",
       "                var nbb_cells = Jupyter.notebook.get_cells();\n",
       "                for (var i = 0; i < nbb_cells.length; ++i) {\n",
       "                    if (nbb_cells[i].input_prompt_number == nbb_cell_id) {\n",
       "                        if (nbb_cells[i].get_text() == nbb_unformatted_code) {\n",
       "                             nbb_cells[i].set_text(nbb_formatted_code);\n",
       "                        }\n",
       "                        break;\n",
       "                    }\n",
       "                }\n",
       "            }, 500);\n",
       "            "
      ],
      "text/plain": [
       "<IPython.core.display.Javascript object>"
      ]
     },
     "metadata": {},
     "output_type": "display_data"
    }
   ],
   "source": [
    "adults_weight = wrangle_data(\n",
    "    health_survey,\n",
    "    \"adults\",\n",
    "    \"Total\",\n",
    "    [\"Healthy weight\", \"Overweight or obese\", \"Underweight\"],\n",
    ")\n",
    "sns.set_style(\"whitegrid\")\n",
    "sns.lineplot(data=adults_weight).set(\n",
    "    xlabel=\"Year\",\n",
    "    ylabel=\"Percentage of population\",\n",
    "    title=\"Weight Status of Kiwi Adults\",\n",
    ")\n",
    "sns.despine(left=True, bottom=True)"
   ]
  },
  {
   "cell_type": "markdown",
   "metadata": {},
   "source": [
    "**Insights:**\n",
    "\n",
    "- Overweight is a problem in New Zealand. We have over 60% of people that are overweight or obese, while 30% - 40% of people are of healthy weight. (We also have a very small number of people that are underweight).\n",
    "- The overweight problem seems getting worse year by year during 2006 - 2016. As shown in the plot, the trend line representing overweight or obese goes up and the trend line representing healthy weight goes down. (The trend line representing underweight remains the same.)"
   ]
  },
  {
   "cell_type": "markdown",
   "metadata": {},
   "source": [
    "#### plot 2"
   ]
  },
  {
   "cell_type": "code",
   "execution_count": 467,
   "metadata": {},
   "outputs": [
    {
     "data": {
      "image/png": "[encoded data removed]",
      "text/plain": [
       "<Figure size 1080x720 with 1 Axes>"
      ]
     },
     "metadata": {},
     "output_type": "display_data"
    },
    {
     "data": {
      "application/javascript": [
       "\n",
       "            setTimeout(function() {\n",
       "                var nbb_cell_id = 467;\n",
       "                var nbb_unformatted_code = \"age_groups = [\\\"15-24\\\", \\\"25-34\\\", \\\"35-44\\\", \\\"45-54\\\", \\\"55-64\\\", \\\"65-74\\\", \\\"75+\\\"]\\nrow_mask = [\\n    d == \\\"Anxiety disorder\\\" and g in age_groups\\n    for d, g in zip(health_survey[\\\"description\\\"], health_survey[\\\"group\\\"])\\n]\\n\\nanxiety_2016_ages = health_survey[row_mask].loc[:, \\\"group\\\":\\\"2016\\\"]\\nsns.set_style(\\\"white\\\")\\nsns.barplot(data=anxiety_2016_ages, x=\\\"group\\\", y=\\\"2016\\\", color=\\\"red\\\").set(\\n    xlabel=\\\"Age Groups\\\",\\n    ylabel=\\\"Anxiety disorder (%)\\\",\\n    title=\\\"Anxiety Disorder Status of Kiwis at Different Ages(2016)\\\",\\n)\\nsns.despine(bottom=True, left=True)\";\n",
       "                var nbb_formatted_code = \"age_groups = [\\\"15-24\\\", \\\"25-34\\\", \\\"35-44\\\", \\\"45-54\\\", \\\"55-64\\\", \\\"65-74\\\", \\\"75+\\\"]\\nrow_mask = [\\n    d == \\\"Anxiety disorder\\\" and g in age_groups\\n    for d, g in zip(health_survey[\\\"description\\\"], health_survey[\\\"group\\\"])\\n]\\n\\nanxiety_2016_ages = health_survey[row_mask].loc[:, \\\"group\\\":\\\"2016\\\"]\\nsns.set_style(\\\"white\\\")\\nsns.barplot(data=anxiety_2016_ages, x=\\\"group\\\", y=\\\"2016\\\", color=\\\"red\\\").set(\\n    xlabel=\\\"Age Groups\\\",\\n    ylabel=\\\"Anxiety disorder (%)\\\",\\n    title=\\\"Anxiety Disorder Status of Kiwis at Different Ages(2016)\\\",\\n)\\nsns.despine(bottom=True, left=True)\";\n",
       "                var nbb_cells = Jupyter.notebook.get_cells();\n",
       "                for (var i = 0; i < nbb_cells.length; ++i) {\n",
       "                    if (nbb_cells[i].input_prompt_number == nbb_cell_id) {\n",
       "                        if (nbb_cells[i].get_text() == nbb_unformatted_code) {\n",
       "                             nbb_cells[i].set_text(nbb_formatted_code);\n",
       "                        }\n",
       "                        break;\n",
       "                    }\n",
       "                }\n",
       "            }, 500);\n",
       "            "
      ],
      "text/plain": [
       "<IPython.core.display.Javascript object>"
      ]
     },
     "metadata": {},
     "output_type": "display_data"
    }
   ],
   "source": [
    "age_groups = [\"15-24\", \"25-34\", \"35-44\", \"45-54\", \"55-64\", \"65-74\", \"75+\"]\n",
    "row_mask = [\n",
    "    d == \"Anxiety disorder\" and g in age_groups\n",
    "    for d, g in zip(health_survey[\"description\"], health_survey[\"group\"])\n",
    "]\n",
    "\n",
    "anxiety_2016_ages = health_survey[row_mask].loc[:, \"group\":\"2016\"]\n",
    "sns.set_style(\"white\")\n",
    "sns.barplot(data=anxiety_2016_ages, x=\"group\", y=\"2016\", color=\"red\").set(\n",
    "    xlabel=\"Age Groups\",\n",
    "    ylabel=\"Anxiety disorder (%)\",\n",
    "    title=\"Anxiety Disorder Status of Kiwis at Different Ages(2016)\",\n",
    ")\n",
    "sns.despine(bottom=True, left=True)"
   ]
  },
  {
   "cell_type": "markdown",
   "metadata": {},
   "source": [
    "**Insights:**\n",
    "\n",
    "- People of different age groups obviously vary when it comes to suffering from anxiety disorder.\n",
    "- Starting at teenager age group, more people suffer from anxiety disorder as the age goes older until their 50s. After 50s, the elder people are, the fewer of them suffer from anxiety disorder."
   ]
  },
  {
   "cell_type": "markdown",
   "metadata": {},
   "source": [
    "## Question 2: NZ Top 100 baby names time series"
   ]
  },
  {
   "cell_type": "code",
   "execution_count": 460,
   "metadata": {},
   "outputs": [
    {
     "data": {
      "application/javascript": [
       "\n",
       "            setTimeout(function() {\n",
       "                var nbb_cell_id = 460;\n",
       "                var nbb_unformatted_code = \"baby_names = pd.read_csv(INPUT_FILES[\\\"baby_names\\\"])\";\n",
       "                var nbb_formatted_code = \"baby_names = pd.read_csv(INPUT_FILES[\\\"baby_names\\\"])\";\n",
       "                var nbb_cells = Jupyter.notebook.get_cells();\n",
       "                for (var i = 0; i < nbb_cells.length; ++i) {\n",
       "                    if (nbb_cells[i].input_prompt_number == nbb_cell_id) {\n",
       "                        if (nbb_cells[i].get_text() == nbb_unformatted_code) {\n",
       "                             nbb_cells[i].set_text(nbb_formatted_code);\n",
       "                        }\n",
       "                        break;\n",
       "                    }\n",
       "                }\n",
       "            }, 500);\n",
       "            "
      ],
      "text/plain": [
       "<IPython.core.display.Javascript object>"
      ]
     },
     "metadata": {},
     "output_type": "display_data"
    }
   ],
   "source": [
    "baby_names = pd.read_csv(INPUT_FILES[\"baby_names\"])"
   ]
  },
  {
   "cell_type": "markdown",
   "metadata": {},
   "source": [
    "### plot 1 - Popular Names Get Less Popular"
   ]
  },
  {
   "cell_type": "code",
   "execution_count": 473,
   "metadata": {},
   "outputs": [
    {
     "data": {
      "image/png": "[encoded data removed]",
      "text/plain": [
       "<Figure size 1080x720 with 1 Axes>"
      ]
     },
     "metadata": {},
     "output_type": "display_data"
    },
    {
     "data": {
      "application/javascript": [
       "\n",
       "            setTimeout(function() {\n",
       "                var nbb_cell_id = 473;\n",
       "                var nbb_unformatted_code = \"top_nums = baby_names.groupby([\\\"year\\\", \\\"sex\\\"]).agg({\\\"No.\\\": \\\"max\\\"})[\\\"No.\\\"]\\ntop_nums = top_nums.unstack()\\nsns.lineplot(data=top_nums, palette=[\\\"red\\\", \\\"blue\\\"], dashes=False).set(\\n    xlabel=\\\"Year\\\",\\n    ylabel=\\\"Number of babies taking the most popular name\\\",\\n    title=\\\"Most Popular Names Are Taken by Fewer Babies\\\",\\n)\\nsns.despine(bottom=True, left=True)\";\n",
       "                var nbb_formatted_code = \"top_nums = baby_names.groupby([\\\"year\\\", \\\"sex\\\"]).agg({\\\"No.\\\": \\\"max\\\"})[\\\"No.\\\"]\\ntop_nums = top_nums.unstack()\\nsns.lineplot(data=top_nums, palette=[\\\"red\\\", \\\"blue\\\"], dashes=False).set(\\n    xlabel=\\\"Year\\\",\\n    ylabel=\\\"Number of babies taking the most popular name\\\",\\n    title=\\\"Most Popular Names Are Taken by Fewer Babies\\\",\\n)\\nsns.despine(bottom=True, left=True)\";\n",
       "                var nbb_cells = Jupyter.notebook.get_cells();\n",
       "                for (var i = 0; i < nbb_cells.length; ++i) {\n",
       "                    if (nbb_cells[i].input_prompt_number == nbb_cell_id) {\n",
       "                        if (nbb_cells[i].get_text() == nbb_unformatted_code) {\n",
       "                             nbb_cells[i].set_text(nbb_formatted_code);\n",
       "                        }\n",
       "                        break;\n",
       "                    }\n",
       "                }\n",
       "            }, 500);\n",
       "            "
      ],
      "text/plain": [
       "<IPython.core.display.Javascript object>"
      ]
     },
     "metadata": {},
     "output_type": "display_data"
    }
   ],
   "source": [
    "top_nums = baby_names.groupby([\"year\", \"sex\"]).agg({\"No.\": \"max\"})[\"No.\"]\n",
    "top_nums = top_nums.unstack()\n",
    "sns.lineplot(data=top_nums, palette=[\"red\", \"blue\"], dashes=False).set(\n",
    "    xlabel=\"Year\",\n",
    "    ylabel=\"Number of babies taking the most popular name\",\n",
    "    title=\"Most Popular Names Are Taken by Fewer Babies\",\n",
    ")\n",
    "sns.despine(bottom=True, left=True)"
   ]
  },
  {
   "cell_type": "markdown",
   "metadata": {},
   "source": [
    "**Analysis:**\n",
    "\n",
    "For each year since 1954, we have the most popular name for boys and for girls. But the plot shows that the popular names are getting less popular year after year. This is especially true for male names, with its most popular name taken by around 1400 boys in 1954 but only around 300 boys in 2018.\n",
    "\n",
    "There are different possible reasons to exlain this. For example, it could be because parents are getting more ideas about naming their babies in modern society. It could also be an indication of the country's population change across the years. Without more data, it's hard to tell.\n",
    "\n",
    "There is an \"outlier\" in female names: In 1986 and 1987, the red line rises up suddenly to form a sharp local peak. A closer look to the data shows that Kiwi parents have a big favor for the girl name \"Sarah\" at those two years. Again, given more data, we may find some interesting result."
   ]
  },
  {
   "cell_type": "code",
   "execution_count": 487,
   "metadata": {},
   "outputs": [
    {
     "data": {
      "text/html": [
       "<div>\n",
       "<style scoped>\n",
       "    .dataframe tbody tr th:only-of-type {\n",
       "        vertical-align: middle;\n",
       "    }\n",
       "\n",
       "    .dataframe tbody tr th {\n",
       "        vertical-align: top;\n",
       "    }\n",
       "\n",
       "    .dataframe thead th {\n",
       "        text-align: right;\n",
       "    }\n",
       "</style>\n",
       "<table border=\"1\" class=\"dataframe\">\n",
       "  <thead>\n",
       "    <tr style=\"text-align: right;\">\n",
       "      <th></th>\n",
       "      <th>Name</th>\n",
       "      <th>No.</th>\n",
       "      <th>year</th>\n",
       "      <th>sex</th>\n",
       "    </tr>\n",
       "  </thead>\n",
       "  <tbody>\n",
       "    <tr>\n",
       "      <th>3300</th>\n",
       "      <td>Sarah</td>\n",
       "      <td>724</td>\n",
       "      <td>1987</td>\n",
       "      <td>Female</td>\n",
       "    </tr>\n",
       "    <tr>\n",
       "      <th>9802</th>\n",
       "      <td>Matthew</td>\n",
       "      <td>724</td>\n",
       "      <td>1987</td>\n",
       "      <td>Male</td>\n",
       "    </tr>\n",
       "    <tr>\n",
       "      <th>10101</th>\n",
       "      <td>Daniel</td>\n",
       "      <td>724</td>\n",
       "      <td>1990</td>\n",
       "      <td>Male</td>\n",
       "    </tr>\n",
       "  </tbody>\n",
       "</table>\n",
       "</div>"
      ],
      "text/plain": [
       "          Name  No.  year     sex\n",
       "3300     Sarah  724  1987  Female\n",
       "9802   Matthew  724  1987    Male\n",
       "10101   Daniel  724  1990    Male"
      ]
     },
     "execution_count": 487,
     "metadata": {},
     "output_type": "execute_result"
    },
    {
     "data": {
      "application/javascript": [
       "\n",
       "            setTimeout(function() {\n",
       "                var nbb_cell_id = 487;\n",
       "                var nbb_unformatted_code = \"top_nums.loc[1980:1990]\\nbaby_names[baby_names[\\\"No.\\\"] == 724]\";\n",
       "                var nbb_formatted_code = \"top_nums.loc[1980:1990]\\nbaby_names[baby_names[\\\"No.\\\"] == 724]\";\n",
       "                var nbb_cells = Jupyter.notebook.get_cells();\n",
       "                for (var i = 0; i < nbb_cells.length; ++i) {\n",
       "                    if (nbb_cells[i].input_prompt_number == nbb_cell_id) {\n",
       "                        if (nbb_cells[i].get_text() == nbb_unformatted_code) {\n",
       "                             nbb_cells[i].set_text(nbb_formatted_code);\n",
       "                        }\n",
       "                        break;\n",
       "                    }\n",
       "                }\n",
       "            }, 500);\n",
       "            "
      ],
      "text/plain": [
       "<IPython.core.display.Javascript object>"
      ]
     },
     "metadata": {},
     "output_type": "display_data"
    }
   ],
   "source": [
    "top_nums.loc[1980:1990]\n",
    "baby_names[baby_names[\"No.\"] == 724]"
   ]
  },
  {
   "cell_type": "markdown",
   "metadata": {},
   "source": [
    "possible topics:\n",
    "1. Diversity of names (more people are turning to same/different names?)\n",
    "2. Most gender neutral names\n",
    "3. Popular names trend (take 10 most popular names each year, analyze their length/vowel nums/etc\n",
    "\n"
   ]
  },
  {
   "cell_type": "markdown",
   "metadata": {},
   "source": [
    "### plot 2 - Evegreen Names"
   ]
  },
  {
   "cell_type": "code",
   "execution_count": 465,
   "metadata": {},
   "outputs": [
    {
     "data": {
      "text/plain": [
       "(array([ 0,  1,  2,  3,  4,  5,  6,  7,  8,  9, 10, 11, 12, 13, 14, 15, 16,\n",
       "        17, 18, 19]),\n",
       " <a list of 20 Text xticklabel objects>)"
      ]
     },
     "execution_count": 465,
     "metadata": {},
     "output_type": "execute_result"
    },
    {
     "data": {
      "image/png": "[encoded data removed]",
      "text/plain": [
       "<Figure size 1080x720 with 1 Axes>"
      ]
     },
     "metadata": {},
     "output_type": "display_data"
    },
    {
     "data": {
      "application/javascript": [
       "\n",
       "            setTimeout(function() {\n",
       "                var nbb_cell_id = 465;\n",
       "                var nbb_unformatted_code = \"names_times = pd.crosstab([baby_names.sex], baby_names[\\\"Name\\\"]).transpose()\\nnames_times[\\\"Total\\\"] = names_times.Female + names_times.Male\\nevergreen_names = (\\n    names_times.reset_index().sort_values(by=\\\"Total\\\", ascending=False).head(20)\\n)\\nsns.set_style(\\\"whitegrid\\\")\\nsns.barplot(\\n    data=evergreen_names,\\n    x=\\\"Name\\\",\\n    y=\\\"Total\\\",\\n    palette=[\\n        \\\"red\\\" if g < 0 else \\\"blue\\\"\\n        for g in evergreen_names.Male - evergreen_names.Female\\n    ],\\n).set(\\n    xlabel=\\\"Names\\\",\\n    ylabel=\\\"Years name makes to top 100\\\",\\n    title=\\\"Evergreen Names in New Zealand (1954-2018)\\\",\\n)\\nsns.despine(bottom=True, left=True)\\nplt.xticks(rotation=90)\";\n",
       "                var nbb_formatted_code = \"names_times = pd.crosstab([baby_names.sex], baby_names[\\\"Name\\\"]).transpose()\\nnames_times[\\\"Total\\\"] = names_times.Female + names_times.Male\\nevergreen_names = (\\n    names_times.reset_index().sort_values(by=\\\"Total\\\", ascending=False).head(20)\\n)\\nsns.set_style(\\\"whitegrid\\\")\\nsns.barplot(\\n    data=evergreen_names,\\n    x=\\\"Name\\\",\\n    y=\\\"Total\\\",\\n    palette=[\\n        \\\"red\\\" if g < 0 else \\\"blue\\\"\\n        for g in evergreen_names.Male - evergreen_names.Female\\n    ],\\n).set(\\n    xlabel=\\\"Names\\\",\\n    ylabel=\\\"Years name makes to top 100\\\",\\n    title=\\\"Evergreen Names in New Zealand (1954-2018)\\\",\\n)\\nsns.despine(bottom=True, left=True)\\nplt.xticks(rotation=90)\";\n",
       "                var nbb_cells = Jupyter.notebook.get_cells();\n",
       "                for (var i = 0; i < nbb_cells.length; ++i) {\n",
       "                    if (nbb_cells[i].input_prompt_number == nbb_cell_id) {\n",
       "                        if (nbb_cells[i].get_text() == nbb_unformatted_code) {\n",
       "                             nbb_cells[i].set_text(nbb_formatted_code);\n",
       "                        }\n",
       "                        break;\n",
       "                    }\n",
       "                }\n",
       "            }, 500);\n",
       "            "
      ],
      "text/plain": [
       "<IPython.core.display.Javascript object>"
      ]
     },
     "metadata": {},
     "output_type": "display_data"
    }
   ],
   "source": [
    "names_times = pd.crosstab([baby_names.sex], baby_names[\"Name\"]).transpose()\n",
    "names_times[\"Total\"] = names_times.Female + names_times.Male\n",
    "evergreen_names = (\n",
    "    names_times.reset_index().sort_values(by=\"Total\", ascending=False).head(20)\n",
    ")\n",
    "sns.set_style(\"whitegrid\")\n",
    "sns.barplot(\n",
    "    data=evergreen_names,\n",
    "    x=\"Name\",\n",
    "    y=\"Total\",\n",
    "    palette=[\n",
    "        \"red\" if g < 0 else \"blue\"\n",
    "        for g in evergreen_names.Male - evergreen_names.Female\n",
    "    ],\n",
    ").set(\n",
    "    xlabel=\"Names\",\n",
    "    ylabel=\"Years name makes to top 100\",\n",
    "    title=\"Evergreen Names in New Zealand (1954-2018)\",\n",
    ")\n",
    "sns.despine(bottom=True, left=True)\n",
    "plt.xticks(rotation=90)"
   ]
  },
  {
   "cell_type": "markdown",
   "metadata": {},
   "source": [
    "**Analysis:**\n",
    "    \n",
    "Some of the names remain evergreen across all the past six decades. In particular, Michael, William, David, James, John, Joseph, Elizabeth, Thomas, and George, have made it to the top 200 names for every single year during the 65 years the data cover. Note that this is not exactly the same as how popular they are, as we only count if it makes to the top 200 list, not considering the actual number of babies taking the name each year.\n",
    "\n",
    "It's also interesting that among the 20 evergreen names, most of them are boy names. This implies that there are more diverse female names for girls' parents to choose from, while boys' parents often just turn to the classic fews.\n",
    "\n",
    "Note: The plot shows that \"Michael\" has shown up in the list for 66 times, which is impossible given we only have 65 years' data. This is due to some error in the data: there are two records for name Michael in year 1988."
   ]
  },
  {
   "cell_type": "markdown",
   "metadata": {},
   "source": [
    "### plot 3 - What makes a popular name"
   ]
  },
  {
   "cell_type": "code",
   "execution_count": 500,
   "metadata": {},
   "outputs": [
    {
     "data": {
      "text/plain": [
       "0        True\n",
       "1        True\n",
       "2        True\n",
       "3        True\n",
       "4        True\n",
       "         ... \n",
       "12995    True\n",
       "12996    True\n",
       "12997    True\n",
       "12998    True\n",
       "12999    True\n",
       "Name: Name, Length: 13000, dtype: bool"
      ]
     },
     "execution_count": 500,
     "metadata": {},
     "output_type": "execute_result"
    },
    {
     "data": {
      "application/javascript": [
       "\n",
       "            setTimeout(function() {\n",
       "                var nbb_cell_id = 500;\n",
       "                var nbb_unformatted_code = \"baby_names.Name.str.len().gt(3)\";\n",
       "                var nbb_formatted_code = \"baby_names.Name.str.len().gt(3)\";\n",
       "                var nbb_cells = Jupyter.notebook.get_cells();\n",
       "                for (var i = 0; i < nbb_cells.length; ++i) {\n",
       "                    if (nbb_cells[i].input_prompt_number == nbb_cell_id) {\n",
       "                        if (nbb_cells[i].get_text() == nbb_unformatted_code) {\n",
       "                             nbb_cells[i].set_text(nbb_formatted_code);\n",
       "                        }\n",
       "                        break;\n",
       "                    }\n",
       "                }\n",
       "            }, 500);\n",
       "            "
      ],
      "text/plain": [
       "<IPython.core.display.Javascript object>"
      ]
     },
     "metadata": {},
     "output_type": "display_data"
    }
   ],
   "source": [
    "baby_names.Name.str.len().lt(3)"
   ]
  },
  {
   "cell_type": "code",
   "execution_count": 509,
   "metadata": {},
   "outputs": [
    {
     "data": {
      "text/html": [
       "<div>\n",
       "<style scoped>\n",
       "    .dataframe tbody tr th:only-of-type {\n",
       "        vertical-align: middle;\n",
       "    }\n",
       "\n",
       "    .dataframe tbody tr th {\n",
       "        vertical-align: top;\n",
       "    }\n",
       "\n",
       "    .dataframe thead th {\n",
       "        text-align: right;\n",
       "    }\n",
       "</style>\n",
       "<table border=\"1\" class=\"dataframe\">\n",
       "  <thead>\n",
       "    <tr style=\"text-align: right;\">\n",
       "      <th></th>\n",
       "      <th>Name</th>\n",
       "      <th>No.</th>\n",
       "      <th>year</th>\n",
       "      <th>sex</th>\n",
       "    </tr>\n",
       "  </thead>\n",
       "  <tbody>\n",
       "    <tr>\n",
       "      <th>44</th>\n",
       "      <td>Ann</td>\n",
       "      <td>152</td>\n",
       "      <td>1954</td>\n",
       "      <td>Female</td>\n",
       "    </tr>\n",
       "    <tr>\n",
       "      <th>53</th>\n",
       "      <td>Kay</td>\n",
       "      <td>116</td>\n",
       "      <td>1954</td>\n",
       "      <td>Female</td>\n",
       "    </tr>\n",
       "    <tr>\n",
       "      <th>65</th>\n",
       "      <td>Jan</td>\n",
       "      <td>90</td>\n",
       "      <td>1954</td>\n",
       "      <td>Female</td>\n",
       "    </tr>\n",
       "    <tr>\n",
       "      <th>80</th>\n",
       "      <td>Joy</td>\n",
       "      <td>76</td>\n",
       "      <td>1954</td>\n",
       "      <td>Female</td>\n",
       "    </tr>\n",
       "    <tr>\n",
       "      <th>138</th>\n",
       "      <td>Ann</td>\n",
       "      <td>156</td>\n",
       "      <td>1955</td>\n",
       "      <td>Female</td>\n",
       "    </tr>\n",
       "    <tr>\n",
       "      <th>...</th>\n",
       "      <td>...</td>\n",
       "      <td>...</td>\n",
       "      <td>...</td>\n",
       "      <td>...</td>\n",
       "    </tr>\n",
       "    <tr>\n",
       "      <th>12812</th>\n",
       "      <td>Max</td>\n",
       "      <td>186</td>\n",
       "      <td>2017</td>\n",
       "      <td>Male</td>\n",
       "    </tr>\n",
       "    <tr>\n",
       "      <th>12838</th>\n",
       "      <td>Eli</td>\n",
       "      <td>109</td>\n",
       "      <td>2017</td>\n",
       "      <td>Male</td>\n",
       "    </tr>\n",
       "    <tr>\n",
       "      <th>12903</th>\n",
       "      <td>Leo</td>\n",
       "      <td>221</td>\n",
       "      <td>2018</td>\n",
       "      <td>Male</td>\n",
       "    </tr>\n",
       "    <tr>\n",
       "      <th>12923</th>\n",
       "      <td>Max</td>\n",
       "      <td>134</td>\n",
       "      <td>2018</td>\n",
       "      <td>Male</td>\n",
       "    </tr>\n",
       "    <tr>\n",
       "      <th>12942</th>\n",
       "      <td>Eli</td>\n",
       "      <td>105</td>\n",
       "      <td>2018</td>\n",
       "      <td>Male</td>\n",
       "    </tr>\n",
       "  </tbody>\n",
       "</table>\n",
       "<p>380 rows × 4 columns</p>\n",
       "</div>"
      ],
      "text/plain": [
       "      Name  No.  year     sex\n",
       "44     Ann  152  1954  Female\n",
       "53     Kay  116  1954  Female\n",
       "65     Jan   90  1954  Female\n",
       "80     Joy   76  1954  Female\n",
       "138    Ann  156  1955  Female\n",
       "...    ...  ...   ...     ...\n",
       "12812  Max  186  2017    Male\n",
       "12838  Eli  109  2017    Male\n",
       "12903  Leo  221  2018    Male\n",
       "12923  Max  134  2018    Male\n",
       "12942  Eli  105  2018    Male\n",
       "\n",
       "[380 rows x 4 columns]"
      ]
     },
     "execution_count": 509,
     "metadata": {},
     "output_type": "execute_result"
    },
    {
     "data": {
      "application/javascript": [
       "\n",
       "            setTimeout(function() {\n",
       "                var nbb_cell_id = 509;\n",
       "                var nbb_unformatted_code = \"baby_names[list(baby_names.Name.str.len().lt(4))]\";\n",
       "                var nbb_formatted_code = \"baby_names[list(baby_names.Name.str.len().lt(4))]\";\n",
       "                var nbb_cells = Jupyter.notebook.get_cells();\n",
       "                for (var i = 0; i < nbb_cells.length; ++i) {\n",
       "                    if (nbb_cells[i].input_prompt_number == nbb_cell_id) {\n",
       "                        if (nbb_cells[i].get_text() == nbb_unformatted_code) {\n",
       "                             nbb_cells[i].set_text(nbb_formatted_code);\n",
       "                        }\n",
       "                        break;\n",
       "                    }\n",
       "                }\n",
       "            }, 500);\n",
       "            "
      ],
      "text/plain": [
       "<IPython.core.display.Javascript object>"
      ]
     },
     "metadata": {},
     "output_type": "display_data"
    }
   ],
   "source": [
    "baby_names[list(baby_names.Name.str.len().lt(4))]\n"
   ]
  },
  {
   "cell_type": "code",
   "execution_count": 514,
   "metadata": {},
   "outputs": [
    {
     "ename": "KeyError",
     "evalue": "'Name'",
     "output_type": "error",
     "traceback": [
      "\u001b[0;31m---------------------------------------------------------------------------\u001b[0m",
      "\u001b[0;31mKeyError\u001b[0m                                  Traceback (most recent call last)",
      "\u001b[0;32m~/anaconda3/envs/158222/lib/python3.8/site-packages/pandas/core/groupby/generic.py\u001b[0m in \u001b[0;36maggregate\u001b[0;34m(self, func, *args, **kwargs)\u001b[0m\n\u001b[1;32m    264\u001b[0m             \u001b[0;32mtry\u001b[0m\u001b[0;34m:\u001b[0m\u001b[0;34m\u001b[0m\u001b[0;34m\u001b[0m\u001b[0m\n\u001b[0;32m--> 265\u001b[0;31m                 \u001b[0;32mreturn\u001b[0m \u001b[0mself\u001b[0m\u001b[0;34m.\u001b[0m\u001b[0m_python_agg_general\u001b[0m\u001b[0;34m(\u001b[0m\u001b[0mfunc\u001b[0m\u001b[0;34m,\u001b[0m \u001b[0;34m*\u001b[0m\u001b[0margs\u001b[0m\u001b[0;34m,\u001b[0m \u001b[0;34m**\u001b[0m\u001b[0mkwargs\u001b[0m\u001b[0;34m)\u001b[0m\u001b[0;34m\u001b[0m\u001b[0;34m\u001b[0m\u001b[0m\n\u001b[0m\u001b[1;32m    266\u001b[0m             \u001b[0;32mexcept\u001b[0m \u001b[0;34m(\u001b[0m\u001b[0mValueError\u001b[0m\u001b[0;34m,\u001b[0m \u001b[0mKeyError\u001b[0m\u001b[0;34m)\u001b[0m\u001b[0;34m:\u001b[0m\u001b[0;34m\u001b[0m\u001b[0;34m\u001b[0m\u001b[0m\n",
      "\u001b[0;32m~/anaconda3/envs/158222/lib/python3.8/site-packages/pandas/core/groupby/groupby.py\u001b[0m in \u001b[0;36m_python_agg_general\u001b[0;34m(self, func, *args, **kwargs)\u001b[0m\n\u001b[1;32m    935\u001b[0m \u001b[0;34m\u001b[0m\u001b[0m\n\u001b[0;32m--> 936\u001b[0;31m             \u001b[0mresult\u001b[0m\u001b[0;34m,\u001b[0m \u001b[0mcounts\u001b[0m \u001b[0;34m=\u001b[0m \u001b[0mself\u001b[0m\u001b[0;34m.\u001b[0m\u001b[0mgrouper\u001b[0m\u001b[0;34m.\u001b[0m\u001b[0magg_series\u001b[0m\u001b[0;34m(\u001b[0m\u001b[0mobj\u001b[0m\u001b[0;34m,\u001b[0m \u001b[0mf\u001b[0m\u001b[0;34m)\u001b[0m\u001b[0;34m\u001b[0m\u001b[0;34m\u001b[0m\u001b[0m\n\u001b[0m\u001b[1;32m    937\u001b[0m             \u001b[0;32massert\u001b[0m \u001b[0mresult\u001b[0m \u001b[0;32mis\u001b[0m \u001b[0;32mnot\u001b[0m \u001b[0;32mNone\u001b[0m\u001b[0;34m\u001b[0m\u001b[0;34m\u001b[0m\u001b[0m\n",
      "\u001b[0;32m~/anaconda3/envs/158222/lib/python3.8/site-packages/pandas/core/groupby/ops.py\u001b[0m in \u001b[0;36magg_series\u001b[0;34m(self, obj, func)\u001b[0m\n\u001b[1;32m    640\u001b[0m         \u001b[0;32mtry\u001b[0m\u001b[0;34m:\u001b[0m\u001b[0;34m\u001b[0m\u001b[0;34m\u001b[0m\u001b[0m\n\u001b[0;32m--> 641\u001b[0;31m             \u001b[0;32mreturn\u001b[0m \u001b[0mself\u001b[0m\u001b[0;34m.\u001b[0m\u001b[0m_aggregate_series_fast\u001b[0m\u001b[0;34m(\u001b[0m\u001b[0mobj\u001b[0m\u001b[0;34m,\u001b[0m \u001b[0mfunc\u001b[0m\u001b[0;34m)\u001b[0m\u001b[0;34m\u001b[0m\u001b[0;34m\u001b[0m\u001b[0m\n\u001b[0m\u001b[1;32m    642\u001b[0m         \u001b[0;32mexcept\u001b[0m \u001b[0mValueError\u001b[0m \u001b[0;32mas\u001b[0m \u001b[0merr\u001b[0m\u001b[0;34m:\u001b[0m\u001b[0;34m\u001b[0m\u001b[0;34m\u001b[0m\u001b[0m\n",
      "\u001b[0;32m~/anaconda3/envs/158222/lib/python3.8/site-packages/pandas/core/groupby/ops.py\u001b[0m in \u001b[0;36m_aggregate_series_fast\u001b[0;34m(self, obj, func)\u001b[0m\n\u001b[1;32m    665\u001b[0m         \u001b[0mgrouper\u001b[0m \u001b[0;34m=\u001b[0m \u001b[0mlibreduction\u001b[0m\u001b[0;34m.\u001b[0m\u001b[0mSeriesGrouper\u001b[0m\u001b[0;34m(\u001b[0m\u001b[0mobj\u001b[0m\u001b[0;34m,\u001b[0m \u001b[0mfunc\u001b[0m\u001b[0;34m,\u001b[0m \u001b[0mgroup_index\u001b[0m\u001b[0;34m,\u001b[0m \u001b[0mngroups\u001b[0m\u001b[0;34m,\u001b[0m \u001b[0mdummy\u001b[0m\u001b[0;34m)\u001b[0m\u001b[0;34m\u001b[0m\u001b[0;34m\u001b[0m\u001b[0m\n\u001b[0;32m--> 666\u001b[0;31m         \u001b[0mresult\u001b[0m\u001b[0;34m,\u001b[0m \u001b[0mcounts\u001b[0m \u001b[0;34m=\u001b[0m \u001b[0mgrouper\u001b[0m\u001b[0;34m.\u001b[0m\u001b[0mget_result\u001b[0m\u001b[0;34m(\u001b[0m\u001b[0;34m)\u001b[0m\u001b[0;34m\u001b[0m\u001b[0;34m\u001b[0m\u001b[0m\n\u001b[0m\u001b[1;32m    667\u001b[0m         \u001b[0;32mreturn\u001b[0m \u001b[0mresult\u001b[0m\u001b[0;34m,\u001b[0m \u001b[0mcounts\u001b[0m\u001b[0;34m\u001b[0m\u001b[0;34m\u001b[0m\u001b[0m\n",
      "\u001b[0;32mpandas/_libs/reduction.pyx\u001b[0m in \u001b[0;36mpandas._libs.reduction.SeriesGrouper.get_result\u001b[0;34m()\u001b[0m\n",
      "\u001b[0;32mpandas/_libs/reduction.pyx\u001b[0m in \u001b[0;36mpandas._libs.reduction._BaseGrouper._apply_to_group\u001b[0;34m()\u001b[0m\n",
      "\u001b[0;32m~/anaconda3/envs/158222/lib/python3.8/site-packages/pandas/core/groupby/groupby.py\u001b[0m in \u001b[0;36m<lambda>\u001b[0;34m(x)\u001b[0m\n\u001b[1;32m    912\u001b[0m         \u001b[0mfunc\u001b[0m \u001b[0;34m=\u001b[0m \u001b[0mself\u001b[0m\u001b[0;34m.\u001b[0m\u001b[0m_is_builtin_func\u001b[0m\u001b[0;34m(\u001b[0m\u001b[0mfunc\u001b[0m\u001b[0;34m)\u001b[0m\u001b[0;34m\u001b[0m\u001b[0;34m\u001b[0m\u001b[0m\n\u001b[0;32m--> 913\u001b[0;31m         \u001b[0mf\u001b[0m \u001b[0;34m=\u001b[0m \u001b[0;32mlambda\u001b[0m \u001b[0mx\u001b[0m\u001b[0;34m:\u001b[0m \u001b[0mfunc\u001b[0m\u001b[0;34m(\u001b[0m\u001b[0mx\u001b[0m\u001b[0;34m,\u001b[0m \u001b[0;34m*\u001b[0m\u001b[0margs\u001b[0m\u001b[0;34m,\u001b[0m \u001b[0;34m**\u001b[0m\u001b[0mkwargs\u001b[0m\u001b[0;34m)\u001b[0m\u001b[0;34m\u001b[0m\u001b[0;34m\u001b[0m\u001b[0m\n\u001b[0m\u001b[1;32m    914\u001b[0m \u001b[0;34m\u001b[0m\u001b[0m\n",
      "\u001b[0;32m<ipython-input-514-87e11fe45891>\u001b[0m in \u001b[0;36mmean_len\u001b[0;34m(s)\u001b[0m\n\u001b[1;32m      1\u001b[0m \u001b[0;32mdef\u001b[0m \u001b[0mmean_len\u001b[0m\u001b[0;34m(\u001b[0m\u001b[0ms\u001b[0m\u001b[0;34m)\u001b[0m\u001b[0;34m:\u001b[0m\u001b[0;34m\u001b[0m\u001b[0;34m\u001b[0m\u001b[0m\n\u001b[0;32m----> 2\u001b[0;31m     \u001b[0;32mreturn\u001b[0m \u001b[0msum\u001b[0m\u001b[0;34m(\u001b[0m\u001b[0ms\u001b[0m\u001b[0;34m[\u001b[0m\u001b[0;34m\"Name\"\u001b[0m\u001b[0;34m]\u001b[0m\u001b[0;34m.\u001b[0m\u001b[0mstr\u001b[0m\u001b[0;34m.\u001b[0m\u001b[0mlen\u001b[0m\u001b[0;34m)\u001b[0m \u001b[0;34m/\u001b[0m \u001b[0ms\u001b[0m\u001b[0;34m.\u001b[0m\u001b[0msize\u001b[0m\u001b[0;34m\u001b[0m\u001b[0;34m\u001b[0m\u001b[0m\n\u001b[0m\u001b[1;32m      3\u001b[0m \u001b[0;34m\u001b[0m\u001b[0m\n",
      "\u001b[0;32m~/anaconda3/envs/158222/lib/python3.8/site-packages/pandas/core/series.py\u001b[0m in \u001b[0;36m__getitem__\u001b[0;34m(self, key)\u001b[0m\n\u001b[1;32m    870\u001b[0m         \u001b[0;32mtry\u001b[0m\u001b[0;34m:\u001b[0m\u001b[0;34m\u001b[0m\u001b[0;34m\u001b[0m\u001b[0m\n\u001b[0;32m--> 871\u001b[0;31m             \u001b[0mresult\u001b[0m \u001b[0;34m=\u001b[0m \u001b[0mself\u001b[0m\u001b[0;34m.\u001b[0m\u001b[0mindex\u001b[0m\u001b[0;34m.\u001b[0m\u001b[0mget_value\u001b[0m\u001b[0;34m(\u001b[0m\u001b[0mself\u001b[0m\u001b[0;34m,\u001b[0m \u001b[0mkey\u001b[0m\u001b[0;34m)\u001b[0m\u001b[0;34m\u001b[0m\u001b[0;34m\u001b[0m\u001b[0m\n\u001b[0m\u001b[1;32m    872\u001b[0m \u001b[0;34m\u001b[0m\u001b[0m\n",
      "\u001b[0;32m~/anaconda3/envs/158222/lib/python3.8/site-packages/pandas/core/indexes/base.py\u001b[0m in \u001b[0;36mget_value\u001b[0;34m(self, series, key)\u001b[0m\n\u001b[1;32m   4404\u001b[0m         \u001b[0;32mtry\u001b[0m\u001b[0;34m:\u001b[0m\u001b[0;34m\u001b[0m\u001b[0;34m\u001b[0m\u001b[0m\n\u001b[0;32m-> 4405\u001b[0;31m             \u001b[0;32mreturn\u001b[0m \u001b[0mself\u001b[0m\u001b[0;34m.\u001b[0m\u001b[0m_engine\u001b[0m\u001b[0;34m.\u001b[0m\u001b[0mget_value\u001b[0m\u001b[0;34m(\u001b[0m\u001b[0ms\u001b[0m\u001b[0;34m,\u001b[0m \u001b[0mk\u001b[0m\u001b[0;34m,\u001b[0m \u001b[0mtz\u001b[0m\u001b[0;34m=\u001b[0m\u001b[0mgetattr\u001b[0m\u001b[0;34m(\u001b[0m\u001b[0mseries\u001b[0m\u001b[0;34m.\u001b[0m\u001b[0mdtype\u001b[0m\u001b[0;34m,\u001b[0m \u001b[0;34m\"tz\"\u001b[0m\u001b[0;34m,\u001b[0m \u001b[0;32mNone\u001b[0m\u001b[0;34m)\u001b[0m\u001b[0;34m)\u001b[0m\u001b[0;34m\u001b[0m\u001b[0;34m\u001b[0m\u001b[0m\n\u001b[0m\u001b[1;32m   4406\u001b[0m         \u001b[0;32mexcept\u001b[0m \u001b[0mKeyError\u001b[0m \u001b[0;32mas\u001b[0m \u001b[0me1\u001b[0m\u001b[0;34m:\u001b[0m\u001b[0;34m\u001b[0m\u001b[0;34m\u001b[0m\u001b[0m\n",
      "\u001b[0;32mpandas/_libs/index.pyx\u001b[0m in \u001b[0;36mpandas._libs.index.IndexEngine.get_value\u001b[0;34m()\u001b[0m\n",
      "\u001b[0;32mpandas/_libs/index.pyx\u001b[0m in \u001b[0;36mpandas._libs.index.IndexEngine.get_value\u001b[0;34m()\u001b[0m\n",
      "\u001b[0;32mpandas/_libs/index.pyx\u001b[0m in \u001b[0;36mpandas._libs.index.IndexEngine.get_loc\u001b[0;34m()\u001b[0m\n",
      "\u001b[0;32mpandas/_libs/index_class_helper.pxi\u001b[0m in \u001b[0;36mpandas._libs.index.Int64Engine._check_type\u001b[0;34m()\u001b[0m\n",
      "\u001b[0;31mKeyError\u001b[0m: 'Name'",
      "\nDuring handling of the above exception, another exception occurred:\n",
      "\u001b[0;31mKeyError\u001b[0m                                  Traceback (most recent call last)",
      "\u001b[0;32m<ipython-input-514-87e11fe45891>\u001b[0m in \u001b[0;36m<module>\u001b[0;34m\u001b[0m\n\u001b[1;32m      3\u001b[0m \u001b[0;34m\u001b[0m\u001b[0m\n\u001b[1;32m      4\u001b[0m \u001b[0;34m\u001b[0m\u001b[0m\n\u001b[0;32m----> 5\u001b[0;31m \u001b[0mbaby_names\u001b[0m\u001b[0;34m.\u001b[0m\u001b[0mpivot_table\u001b[0m\u001b[0;34m(\u001b[0m\u001b[0mindex\u001b[0m\u001b[0;34m=\u001b[0m\u001b[0;34m[\u001b[0m\u001b[0;34m\"sex\"\u001b[0m\u001b[0;34m]\u001b[0m\u001b[0;34m,\u001b[0m \u001b[0mvalues\u001b[0m\u001b[0;34m=\u001b[0m\u001b[0;34m\"Name\"\u001b[0m\u001b[0;34m,\u001b[0m \u001b[0maggfunc\u001b[0m\u001b[0;34m=\u001b[0m\u001b[0mmean_len\u001b[0m\u001b[0;34m)\u001b[0m\u001b[0;34m\u001b[0m\u001b[0;34m\u001b[0m\u001b[0m\n\u001b[0m",
      "\u001b[0;32m~/anaconda3/envs/158222/lib/python3.8/site-packages/pandas/core/frame.py\u001b[0m in \u001b[0;36mpivot_table\u001b[0;34m(self, values, index, columns, aggfunc, fill_value, margins, dropna, margins_name, observed)\u001b[0m\n\u001b[1;32m   6068\u001b[0m         \u001b[0;32mfrom\u001b[0m \u001b[0mpandas\u001b[0m\u001b[0;34m.\u001b[0m\u001b[0mcore\u001b[0m\u001b[0;34m.\u001b[0m\u001b[0mreshape\u001b[0m\u001b[0;34m.\u001b[0m\u001b[0mpivot\u001b[0m \u001b[0;32mimport\u001b[0m \u001b[0mpivot_table\u001b[0m\u001b[0;34m\u001b[0m\u001b[0;34m\u001b[0m\u001b[0m\n\u001b[1;32m   6069\u001b[0m \u001b[0;34m\u001b[0m\u001b[0m\n\u001b[0;32m-> 6070\u001b[0;31m         return pivot_table(\n\u001b[0m\u001b[1;32m   6071\u001b[0m             \u001b[0mself\u001b[0m\u001b[0;34m,\u001b[0m\u001b[0;34m\u001b[0m\u001b[0;34m\u001b[0m\u001b[0m\n\u001b[1;32m   6072\u001b[0m             \u001b[0mvalues\u001b[0m\u001b[0;34m=\u001b[0m\u001b[0mvalues\u001b[0m\u001b[0;34m,\u001b[0m\u001b[0;34m\u001b[0m\u001b[0;34m\u001b[0m\u001b[0m\n",
      "\u001b[0;32m~/anaconda3/envs/158222/lib/python3.8/site-packages/pandas/core/reshape/pivot.py\u001b[0m in \u001b[0;36mpivot_table\u001b[0;34m(data, values, index, columns, aggfunc, fill_value, margins, dropna, margins_name, observed)\u001b[0m\n\u001b[1;32m     99\u001b[0m \u001b[0;34m\u001b[0m\u001b[0m\n\u001b[1;32m    100\u001b[0m     \u001b[0mgrouped\u001b[0m \u001b[0;34m=\u001b[0m \u001b[0mdata\u001b[0m\u001b[0;34m.\u001b[0m\u001b[0mgroupby\u001b[0m\u001b[0;34m(\u001b[0m\u001b[0mkeys\u001b[0m\u001b[0;34m,\u001b[0m \u001b[0mobserved\u001b[0m\u001b[0;34m=\u001b[0m\u001b[0mobserved\u001b[0m\u001b[0;34m)\u001b[0m\u001b[0;34m\u001b[0m\u001b[0;34m\u001b[0m\u001b[0m\n\u001b[0;32m--> 101\u001b[0;31m     \u001b[0magged\u001b[0m \u001b[0;34m=\u001b[0m \u001b[0mgrouped\u001b[0m\u001b[0;34m.\u001b[0m\u001b[0magg\u001b[0m\u001b[0;34m(\u001b[0m\u001b[0maggfunc\u001b[0m\u001b[0;34m)\u001b[0m\u001b[0;34m\u001b[0m\u001b[0;34m\u001b[0m\u001b[0m\n\u001b[0m\u001b[1;32m    102\u001b[0m     \u001b[0;32mif\u001b[0m \u001b[0mdropna\u001b[0m \u001b[0;32mand\u001b[0m \u001b[0misinstance\u001b[0m\u001b[0;34m(\u001b[0m\u001b[0magged\u001b[0m\u001b[0;34m,\u001b[0m \u001b[0mABCDataFrame\u001b[0m\u001b[0;34m)\u001b[0m \u001b[0;32mand\u001b[0m \u001b[0mlen\u001b[0m\u001b[0;34m(\u001b[0m\u001b[0magged\u001b[0m\u001b[0;34m.\u001b[0m\u001b[0mcolumns\u001b[0m\u001b[0;34m)\u001b[0m\u001b[0;34m:\u001b[0m\u001b[0;34m\u001b[0m\u001b[0;34m\u001b[0m\u001b[0m\n\u001b[1;32m    103\u001b[0m         \u001b[0magged\u001b[0m \u001b[0;34m=\u001b[0m \u001b[0magged\u001b[0m\u001b[0;34m.\u001b[0m\u001b[0mdropna\u001b[0m\u001b[0;34m(\u001b[0m\u001b[0mhow\u001b[0m\u001b[0;34m=\u001b[0m\u001b[0;34m\"all\"\u001b[0m\u001b[0;34m)\u001b[0m\u001b[0;34m\u001b[0m\u001b[0;34m\u001b[0m\u001b[0m\n",
      "\u001b[0;32m~/anaconda3/envs/158222/lib/python3.8/site-packages/pandas/core/groupby/generic.py\u001b[0m in \u001b[0;36maggregate\u001b[0;34m(self, func, *args, **kwargs)\u001b[0m\n\u001b[1;32m    958\u001b[0m                 \u001b[0;31m# try to treat as if we are passing a list\u001b[0m\u001b[0;34m\u001b[0m\u001b[0;34m\u001b[0m\u001b[0;34m\u001b[0m\u001b[0m\n\u001b[1;32m    959\u001b[0m                 \u001b[0;32mtry\u001b[0m\u001b[0;34m:\u001b[0m\u001b[0;34m\u001b[0m\u001b[0;34m\u001b[0m\u001b[0m\n\u001b[0;32m--> 960\u001b[0;31m                     \u001b[0mresult\u001b[0m \u001b[0;34m=\u001b[0m \u001b[0mself\u001b[0m\u001b[0;34m.\u001b[0m\u001b[0m_aggregate_multiple_funcs\u001b[0m\u001b[0;34m(\u001b[0m\u001b[0;34m[\u001b[0m\u001b[0mfunc\u001b[0m\u001b[0;34m]\u001b[0m\u001b[0;34m,\u001b[0m \u001b[0m_axis\u001b[0m\u001b[0;34m=\u001b[0m\u001b[0mself\u001b[0m\u001b[0;34m.\u001b[0m\u001b[0maxis\u001b[0m\u001b[0;34m)\u001b[0m\u001b[0;34m\u001b[0m\u001b[0;34m\u001b[0m\u001b[0m\n\u001b[0m\u001b[1;32m    961\u001b[0m                 \u001b[0;32mexcept\u001b[0m \u001b[0mValueError\u001b[0m \u001b[0;32mas\u001b[0m \u001b[0merr\u001b[0m\u001b[0;34m:\u001b[0m\u001b[0;34m\u001b[0m\u001b[0;34m\u001b[0m\u001b[0m\n\u001b[1;32m    962\u001b[0m                     \u001b[0;32mif\u001b[0m \u001b[0;34m\"no results\"\u001b[0m \u001b[0;32mnot\u001b[0m \u001b[0;32min\u001b[0m \u001b[0mstr\u001b[0m\u001b[0;34m(\u001b[0m\u001b[0merr\u001b[0m\u001b[0;34m)\u001b[0m\u001b[0;34m:\u001b[0m\u001b[0;34m\u001b[0m\u001b[0;34m\u001b[0m\u001b[0m\n",
      "\u001b[0;32m~/anaconda3/envs/158222/lib/python3.8/site-packages/pandas/core/base.py\u001b[0m in \u001b[0;36m_aggregate_multiple_funcs\u001b[0;34m(self, arg, _axis)\u001b[0m\n\u001b[1;32m    530\u001b[0m                 \u001b[0mcolg\u001b[0m \u001b[0;34m=\u001b[0m \u001b[0mself\u001b[0m\u001b[0;34m.\u001b[0m\u001b[0m_gotitem\u001b[0m\u001b[0;34m(\u001b[0m\u001b[0mcol\u001b[0m\u001b[0;34m,\u001b[0m \u001b[0mndim\u001b[0m\u001b[0;34m=\u001b[0m\u001b[0;36m1\u001b[0m\u001b[0;34m,\u001b[0m \u001b[0msubset\u001b[0m\u001b[0;34m=\u001b[0m\u001b[0mobj\u001b[0m\u001b[0;34m.\u001b[0m\u001b[0miloc\u001b[0m\u001b[0;34m[\u001b[0m\u001b[0;34m:\u001b[0m\u001b[0;34m,\u001b[0m \u001b[0mindex\u001b[0m\u001b[0;34m]\u001b[0m\u001b[0;34m)\u001b[0m\u001b[0;34m\u001b[0m\u001b[0;34m\u001b[0m\u001b[0m\n\u001b[1;32m    531\u001b[0m                 \u001b[0;32mtry\u001b[0m\u001b[0;34m:\u001b[0m\u001b[0;34m\u001b[0m\u001b[0;34m\u001b[0m\u001b[0m\n\u001b[0;32m--> 532\u001b[0;31m                     \u001b[0mnew_res\u001b[0m \u001b[0;34m=\u001b[0m \u001b[0mcolg\u001b[0m\u001b[0;34m.\u001b[0m\u001b[0maggregate\u001b[0m\u001b[0;34m(\u001b[0m\u001b[0marg\u001b[0m\u001b[0;34m)\u001b[0m\u001b[0;34m\u001b[0m\u001b[0;34m\u001b[0m\u001b[0m\n\u001b[0m\u001b[1;32m    533\u001b[0m                 \u001b[0;32mexcept\u001b[0m \u001b[0;34m(\u001b[0m\u001b[0mTypeError\u001b[0m\u001b[0;34m,\u001b[0m \u001b[0mDataError\u001b[0m\u001b[0;34m)\u001b[0m\u001b[0;34m:\u001b[0m\u001b[0;34m\u001b[0m\u001b[0;34m\u001b[0m\u001b[0m\n\u001b[1;32m    534\u001b[0m                     \u001b[0;32mpass\u001b[0m\u001b[0;34m\u001b[0m\u001b[0;34m\u001b[0m\u001b[0m\n",
      "\u001b[0;32m~/anaconda3/envs/158222/lib/python3.8/site-packages/pandas/core/groupby/generic.py\u001b[0m in \u001b[0;36maggregate\u001b[0;34m(self, func, *args, **kwargs)\u001b[0m\n\u001b[1;32m    251\u001b[0m             \u001b[0;31m# but not the class list / tuple itself.\u001b[0m\u001b[0;34m\u001b[0m\u001b[0;34m\u001b[0m\u001b[0;34m\u001b[0m\u001b[0m\n\u001b[1;32m    252\u001b[0m             \u001b[0mfunc\u001b[0m \u001b[0;34m=\u001b[0m \u001b[0m_maybe_mangle_lambdas\u001b[0m\u001b[0;34m(\u001b[0m\u001b[0mfunc\u001b[0m\u001b[0;34m)\u001b[0m\u001b[0;34m\u001b[0m\u001b[0;34m\u001b[0m\u001b[0m\n\u001b[0;32m--> 253\u001b[0;31m             \u001b[0mret\u001b[0m \u001b[0;34m=\u001b[0m \u001b[0mself\u001b[0m\u001b[0;34m.\u001b[0m\u001b[0m_aggregate_multiple_funcs\u001b[0m\u001b[0;34m(\u001b[0m\u001b[0mfunc\u001b[0m\u001b[0;34m)\u001b[0m\u001b[0;34m\u001b[0m\u001b[0;34m\u001b[0m\u001b[0m\n\u001b[0m\u001b[1;32m    254\u001b[0m             \u001b[0;32mif\u001b[0m \u001b[0mrelabeling\u001b[0m\u001b[0;34m:\u001b[0m\u001b[0;34m\u001b[0m\u001b[0;34m\u001b[0m\u001b[0m\n\u001b[1;32m    255\u001b[0m                 \u001b[0mret\u001b[0m\u001b[0;34m.\u001b[0m\u001b[0mcolumns\u001b[0m \u001b[0;34m=\u001b[0m \u001b[0mcolumns\u001b[0m\u001b[0;34m\u001b[0m\u001b[0;34m\u001b[0m\u001b[0m\n",
      "\u001b[0;32m~/anaconda3/envs/158222/lib/python3.8/site-packages/pandas/core/groupby/generic.py\u001b[0m in \u001b[0;36m_aggregate_multiple_funcs\u001b[0;34m(self, arg)\u001b[0m\n\u001b[1;32m    319\u001b[0m                 \u001b[0mobj\u001b[0m\u001b[0;34m.\u001b[0m\u001b[0m_reset_cache\u001b[0m\u001b[0;34m(\u001b[0m\u001b[0;34m)\u001b[0m\u001b[0;34m\u001b[0m\u001b[0;34m\u001b[0m\u001b[0m\n\u001b[1;32m    320\u001b[0m                 \u001b[0mobj\u001b[0m\u001b[0;34m.\u001b[0m\u001b[0m_selection\u001b[0m \u001b[0;34m=\u001b[0m \u001b[0mname\u001b[0m\u001b[0;34m\u001b[0m\u001b[0;34m\u001b[0m\u001b[0m\n\u001b[0;32m--> 321\u001b[0;31m             \u001b[0mresults\u001b[0m\u001b[0;34m[\u001b[0m\u001b[0mname\u001b[0m\u001b[0;34m]\u001b[0m \u001b[0;34m=\u001b[0m \u001b[0mobj\u001b[0m\u001b[0;34m.\u001b[0m\u001b[0maggregate\u001b[0m\u001b[0;34m(\u001b[0m\u001b[0mfunc\u001b[0m\u001b[0;34m)\u001b[0m\u001b[0;34m\u001b[0m\u001b[0;34m\u001b[0m\u001b[0m\n\u001b[0m\u001b[1;32m    322\u001b[0m \u001b[0;34m\u001b[0m\u001b[0m\n\u001b[1;32m    323\u001b[0m         \u001b[0;32mif\u001b[0m \u001b[0many\u001b[0m\u001b[0;34m(\u001b[0m\u001b[0misinstance\u001b[0m\u001b[0;34m(\u001b[0m\u001b[0mx\u001b[0m\u001b[0;34m,\u001b[0m \u001b[0mDataFrame\u001b[0m\u001b[0;34m)\u001b[0m \u001b[0;32mfor\u001b[0m \u001b[0mx\u001b[0m \u001b[0;32min\u001b[0m \u001b[0mresults\u001b[0m\u001b[0;34m.\u001b[0m\u001b[0mvalues\u001b[0m\u001b[0;34m(\u001b[0m\u001b[0;34m)\u001b[0m\u001b[0;34m)\u001b[0m\u001b[0;34m:\u001b[0m\u001b[0;34m\u001b[0m\u001b[0;34m\u001b[0m\u001b[0m\n",
      "\u001b[0;32m~/anaconda3/envs/158222/lib/python3.8/site-packages/pandas/core/groupby/generic.py\u001b[0m in \u001b[0;36maggregate\u001b[0;34m(self, func, *args, **kwargs)\u001b[0m\n\u001b[1;32m    267\u001b[0m                 \u001b[0;31m# TODO: KeyError is raised in _python_agg_general,\u001b[0m\u001b[0;34m\u001b[0m\u001b[0;34m\u001b[0m\u001b[0;34m\u001b[0m\u001b[0m\n\u001b[1;32m    268\u001b[0m                 \u001b[0;31m#  see see test_groupby.test_basic\u001b[0m\u001b[0;34m\u001b[0m\u001b[0;34m\u001b[0m\u001b[0;34m\u001b[0m\u001b[0m\n\u001b[0;32m--> 269\u001b[0;31m                 \u001b[0mresult\u001b[0m \u001b[0;34m=\u001b[0m \u001b[0mself\u001b[0m\u001b[0;34m.\u001b[0m\u001b[0m_aggregate_named\u001b[0m\u001b[0;34m(\u001b[0m\u001b[0mfunc\u001b[0m\u001b[0;34m,\u001b[0m \u001b[0;34m*\u001b[0m\u001b[0margs\u001b[0m\u001b[0;34m,\u001b[0m \u001b[0;34m**\u001b[0m\u001b[0mkwargs\u001b[0m\u001b[0;34m)\u001b[0m\u001b[0;34m\u001b[0m\u001b[0;34m\u001b[0m\u001b[0m\n\u001b[0m\u001b[1;32m    270\u001b[0m \u001b[0;34m\u001b[0m\u001b[0m\n\u001b[1;32m    271\u001b[0m             \u001b[0mindex\u001b[0m \u001b[0;34m=\u001b[0m \u001b[0mIndex\u001b[0m\u001b[0;34m(\u001b[0m\u001b[0msorted\u001b[0m\u001b[0;34m(\u001b[0m\u001b[0mresult\u001b[0m\u001b[0;34m)\u001b[0m\u001b[0;34m,\u001b[0m \u001b[0mname\u001b[0m\u001b[0;34m=\u001b[0m\u001b[0mself\u001b[0m\u001b[0;34m.\u001b[0m\u001b[0mgrouper\u001b[0m\u001b[0;34m.\u001b[0m\u001b[0mnames\u001b[0m\u001b[0;34m[\u001b[0m\u001b[0;36m0\u001b[0m\u001b[0;34m]\u001b[0m\u001b[0;34m)\u001b[0m\u001b[0;34m\u001b[0m\u001b[0;34m\u001b[0m\u001b[0m\n",
      "\u001b[0;32m~/anaconda3/envs/158222/lib/python3.8/site-packages/pandas/core/groupby/generic.py\u001b[0m in \u001b[0;36m_aggregate_named\u001b[0;34m(self, func, *args, **kwargs)\u001b[0m\n\u001b[1;32m    450\u001b[0m         \u001b[0;32mfor\u001b[0m \u001b[0mname\u001b[0m\u001b[0;34m,\u001b[0m \u001b[0mgroup\u001b[0m \u001b[0;32min\u001b[0m \u001b[0mself\u001b[0m\u001b[0;34m:\u001b[0m\u001b[0;34m\u001b[0m\u001b[0;34m\u001b[0m\u001b[0m\n\u001b[1;32m    451\u001b[0m             \u001b[0mgroup\u001b[0m\u001b[0;34m.\u001b[0m\u001b[0mname\u001b[0m \u001b[0;34m=\u001b[0m \u001b[0mname\u001b[0m\u001b[0;34m\u001b[0m\u001b[0;34m\u001b[0m\u001b[0m\n\u001b[0;32m--> 452\u001b[0;31m             \u001b[0moutput\u001b[0m \u001b[0;34m=\u001b[0m \u001b[0mfunc\u001b[0m\u001b[0;34m(\u001b[0m\u001b[0mgroup\u001b[0m\u001b[0;34m,\u001b[0m \u001b[0;34m*\u001b[0m\u001b[0margs\u001b[0m\u001b[0;34m,\u001b[0m \u001b[0;34m**\u001b[0m\u001b[0mkwargs\u001b[0m\u001b[0;34m)\u001b[0m\u001b[0;34m\u001b[0m\u001b[0;34m\u001b[0m\u001b[0m\n\u001b[0m\u001b[1;32m    453\u001b[0m             \u001b[0;32mif\u001b[0m \u001b[0misinstance\u001b[0m\u001b[0;34m(\u001b[0m\u001b[0moutput\u001b[0m\u001b[0;34m,\u001b[0m \u001b[0;34m(\u001b[0m\u001b[0mSeries\u001b[0m\u001b[0;34m,\u001b[0m \u001b[0mIndex\u001b[0m\u001b[0;34m,\u001b[0m \u001b[0mnp\u001b[0m\u001b[0;34m.\u001b[0m\u001b[0mndarray\u001b[0m\u001b[0;34m)\u001b[0m\u001b[0;34m)\u001b[0m\u001b[0;34m:\u001b[0m\u001b[0;34m\u001b[0m\u001b[0;34m\u001b[0m\u001b[0m\n\u001b[1;32m    454\u001b[0m                 \u001b[0;32mraise\u001b[0m \u001b[0mValueError\u001b[0m\u001b[0;34m(\u001b[0m\u001b[0;34m\"Must produce aggregated value\"\u001b[0m\u001b[0;34m)\u001b[0m\u001b[0;34m\u001b[0m\u001b[0;34m\u001b[0m\u001b[0m\n",
      "\u001b[0;32m<ipython-input-514-87e11fe45891>\u001b[0m in \u001b[0;36mmean_len\u001b[0;34m(s)\u001b[0m\n\u001b[1;32m      1\u001b[0m \u001b[0;32mdef\u001b[0m \u001b[0mmean_len\u001b[0m\u001b[0;34m(\u001b[0m\u001b[0ms\u001b[0m\u001b[0;34m)\u001b[0m\u001b[0;34m:\u001b[0m\u001b[0;34m\u001b[0m\u001b[0;34m\u001b[0m\u001b[0m\n\u001b[0;32m----> 2\u001b[0;31m     \u001b[0;32mreturn\u001b[0m \u001b[0msum\u001b[0m\u001b[0;34m(\u001b[0m\u001b[0ms\u001b[0m\u001b[0;34m[\u001b[0m\u001b[0;34m\"Name\"\u001b[0m\u001b[0;34m]\u001b[0m\u001b[0;34m.\u001b[0m\u001b[0mstr\u001b[0m\u001b[0;34m.\u001b[0m\u001b[0mlen\u001b[0m\u001b[0;34m)\u001b[0m \u001b[0;34m/\u001b[0m \u001b[0ms\u001b[0m\u001b[0;34m.\u001b[0m\u001b[0msize\u001b[0m\u001b[0;34m\u001b[0m\u001b[0;34m\u001b[0m\u001b[0m\n\u001b[0m\u001b[1;32m      3\u001b[0m \u001b[0;34m\u001b[0m\u001b[0m\n\u001b[1;32m      4\u001b[0m \u001b[0;34m\u001b[0m\u001b[0m\n\u001b[1;32m      5\u001b[0m \u001b[0mbaby_names\u001b[0m\u001b[0;34m.\u001b[0m\u001b[0mpivot_table\u001b[0m\u001b[0;34m(\u001b[0m\u001b[0mindex\u001b[0m\u001b[0;34m=\u001b[0m\u001b[0;34m[\u001b[0m\u001b[0;34m\"sex\"\u001b[0m\u001b[0;34m]\u001b[0m\u001b[0;34m,\u001b[0m \u001b[0mvalues\u001b[0m\u001b[0;34m=\u001b[0m\u001b[0;34m\"Name\"\u001b[0m\u001b[0;34m,\u001b[0m \u001b[0maggfunc\u001b[0m\u001b[0;34m=\u001b[0m\u001b[0mmean_len\u001b[0m\u001b[0;34m)\u001b[0m\u001b[0;34m\u001b[0m\u001b[0;34m\u001b[0m\u001b[0m\n",
      "\u001b[0;32m~/anaconda3/envs/158222/lib/python3.8/site-packages/pandas/core/series.py\u001b[0m in \u001b[0;36m__getitem__\u001b[0;34m(self, key)\u001b[0m\n\u001b[1;32m    869\u001b[0m         \u001b[0mkey\u001b[0m \u001b[0;34m=\u001b[0m \u001b[0mcom\u001b[0m\u001b[0;34m.\u001b[0m\u001b[0mapply_if_callable\u001b[0m\u001b[0;34m(\u001b[0m\u001b[0mkey\u001b[0m\u001b[0;34m,\u001b[0m \u001b[0mself\u001b[0m\u001b[0;34m)\u001b[0m\u001b[0;34m\u001b[0m\u001b[0;34m\u001b[0m\u001b[0m\n\u001b[1;32m    870\u001b[0m         \u001b[0;32mtry\u001b[0m\u001b[0;34m:\u001b[0m\u001b[0;34m\u001b[0m\u001b[0;34m\u001b[0m\u001b[0m\n\u001b[0;32m--> 871\u001b[0;31m             \u001b[0mresult\u001b[0m \u001b[0;34m=\u001b[0m \u001b[0mself\u001b[0m\u001b[0;34m.\u001b[0m\u001b[0mindex\u001b[0m\u001b[0;34m.\u001b[0m\u001b[0mget_value\u001b[0m\u001b[0;34m(\u001b[0m\u001b[0mself\u001b[0m\u001b[0;34m,\u001b[0m \u001b[0mkey\u001b[0m\u001b[0;34m)\u001b[0m\u001b[0;34m\u001b[0m\u001b[0;34m\u001b[0m\u001b[0m\n\u001b[0m\u001b[1;32m    872\u001b[0m \u001b[0;34m\u001b[0m\u001b[0m\n\u001b[1;32m    873\u001b[0m             \u001b[0;32mif\u001b[0m \u001b[0;32mnot\u001b[0m \u001b[0mis_scalar\u001b[0m\u001b[0;34m(\u001b[0m\u001b[0mresult\u001b[0m\u001b[0;34m)\u001b[0m\u001b[0;34m:\u001b[0m\u001b[0;34m\u001b[0m\u001b[0;34m\u001b[0m\u001b[0m\n",
      "\u001b[0;32m~/anaconda3/envs/158222/lib/python3.8/site-packages/pandas/core/indexes/base.py\u001b[0m in \u001b[0;36mget_value\u001b[0;34m(self, series, key)\u001b[0m\n\u001b[1;32m   4403\u001b[0m         \u001b[0mk\u001b[0m \u001b[0;34m=\u001b[0m \u001b[0mself\u001b[0m\u001b[0;34m.\u001b[0m\u001b[0m_convert_scalar_indexer\u001b[0m\u001b[0;34m(\u001b[0m\u001b[0mk\u001b[0m\u001b[0;34m,\u001b[0m \u001b[0mkind\u001b[0m\u001b[0;34m=\u001b[0m\u001b[0;34m\"getitem\"\u001b[0m\u001b[0;34m)\u001b[0m\u001b[0;34m\u001b[0m\u001b[0;34m\u001b[0m\u001b[0m\n\u001b[1;32m   4404\u001b[0m         \u001b[0;32mtry\u001b[0m\u001b[0;34m:\u001b[0m\u001b[0;34m\u001b[0m\u001b[0;34m\u001b[0m\u001b[0m\n\u001b[0;32m-> 4405\u001b[0;31m             \u001b[0;32mreturn\u001b[0m \u001b[0mself\u001b[0m\u001b[0;34m.\u001b[0m\u001b[0m_engine\u001b[0m\u001b[0;34m.\u001b[0m\u001b[0mget_value\u001b[0m\u001b[0;34m(\u001b[0m\u001b[0ms\u001b[0m\u001b[0;34m,\u001b[0m \u001b[0mk\u001b[0m\u001b[0;34m,\u001b[0m \u001b[0mtz\u001b[0m\u001b[0;34m=\u001b[0m\u001b[0mgetattr\u001b[0m\u001b[0;34m(\u001b[0m\u001b[0mseries\u001b[0m\u001b[0;34m.\u001b[0m\u001b[0mdtype\u001b[0m\u001b[0;34m,\u001b[0m \u001b[0;34m\"tz\"\u001b[0m\u001b[0;34m,\u001b[0m \u001b[0;32mNone\u001b[0m\u001b[0;34m)\u001b[0m\u001b[0;34m)\u001b[0m\u001b[0;34m\u001b[0m\u001b[0;34m\u001b[0m\u001b[0m\n\u001b[0m\u001b[1;32m   4406\u001b[0m         \u001b[0;32mexcept\u001b[0m \u001b[0mKeyError\u001b[0m \u001b[0;32mas\u001b[0m \u001b[0me1\u001b[0m\u001b[0;34m:\u001b[0m\u001b[0;34m\u001b[0m\u001b[0;34m\u001b[0m\u001b[0m\n\u001b[1;32m   4407\u001b[0m             \u001b[0;32mif\u001b[0m \u001b[0mlen\u001b[0m\u001b[0;34m(\u001b[0m\u001b[0mself\u001b[0m\u001b[0;34m)\u001b[0m \u001b[0;34m>\u001b[0m \u001b[0;36m0\u001b[0m \u001b[0;32mand\u001b[0m \u001b[0;34m(\u001b[0m\u001b[0mself\u001b[0m\u001b[0;34m.\u001b[0m\u001b[0mholds_integer\u001b[0m\u001b[0;34m(\u001b[0m\u001b[0;34m)\u001b[0m \u001b[0;32mor\u001b[0m \u001b[0mself\u001b[0m\u001b[0;34m.\u001b[0m\u001b[0mis_boolean\u001b[0m\u001b[0;34m(\u001b[0m\u001b[0;34m)\u001b[0m\u001b[0;34m)\u001b[0m\u001b[0;34m:\u001b[0m\u001b[0;34m\u001b[0m\u001b[0;34m\u001b[0m\u001b[0m\n",
      "\u001b[0;32mpandas/_libs/index.pyx\u001b[0m in \u001b[0;36mpandas._libs.index.IndexEngine.get_value\u001b[0;34m()\u001b[0m\n",
      "\u001b[0;32mpandas/_libs/index.pyx\u001b[0m in \u001b[0;36mpandas._libs.index.IndexEngine.get_value\u001b[0;34m()\u001b[0m\n",
      "\u001b[0;32mpandas/_libs/index.pyx\u001b[0m in \u001b[0;36mpandas._libs.index.IndexEngine.get_loc\u001b[0;34m()\u001b[0m\n",
      "\u001b[0;32mpandas/_libs/index_class_helper.pxi\u001b[0m in \u001b[0;36mpandas._libs.index.Int64Engine._check_type\u001b[0;34m()\u001b[0m\n",
      "\u001b[0;31mKeyError\u001b[0m: 'Name'"
     ]
    },
    {
     "data": {
      "application/javascript": [
       "\n",
       "            setTimeout(function() {\n",
       "                var nbb_cell_id = 514;\n",
       "                var nbb_unformatted_code = \"def mean_len(s):\\n    return sum(s[\\\"Name\\\"].str.len) / s.size\\n\\n\\nbaby_names.pivot_table(index=[\\\"sex\\\"], values=\\\"Name\\\", aggfunc=mean_len)\";\n",
       "                var nbb_formatted_code = \"def mean_len(s):\\n    return sum(s[\\\"Name\\\"].str.len) / s.size\\n\\n\\nbaby_names.pivot_table(index=[\\\"sex\\\"], values=\\\"Name\\\", aggfunc=mean_len)\";\n",
       "                var nbb_cells = Jupyter.notebook.get_cells();\n",
       "                for (var i = 0; i < nbb_cells.length; ++i) {\n",
       "                    if (nbb_cells[i].input_prompt_number == nbb_cell_id) {\n",
       "                        if (nbb_cells[i].get_text() == nbb_unformatted_code) {\n",
       "                             nbb_cells[i].set_text(nbb_formatted_code);\n",
       "                        }\n",
       "                        break;\n",
       "                    }\n",
       "                }\n",
       "            }, 500);\n",
       "            "
      ],
      "text/plain": [
       "<IPython.core.display.Javascript object>"
      ]
     },
     "metadata": {},
     "output_type": "display_data"
    }
   ],
   "source": [
    "def mean_len(s):\n",
    "    return sum(s[\"Name\"].str.len) / s.size\n",
    "\n",
    "\n",
    "baby_names.pivot_table(index=[\"sex\"], values=\"Name\", aggfunc=mean_len)"
   ]
  }
 ],
 "metadata": {
  "kernelspec": {
   "display_name": "Python 3",
   "language": "python",
   "name": "python3"
  },
  "language_info": {
   "codemirror_mode": {
    "name": "ipython",
    "version": 3
   },
   "file_extension": ".py",
   "mimetype": "text/x-python",
   "name": "python",
   "nbconvert_exporter": "python",
   "pygments_lexer": "ipython3",
   "version": "3.8.1"
  }
 },
 "nbformat": 4,
 "nbformat_minor": 4
}
